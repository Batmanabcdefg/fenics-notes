{
 "cells": [
  {
   "cell_type": "markdown",
   "metadata": {},
   "source": [
    "# Foundamentals: solving the Poisson equation\n",
    "\n",
    "We solve the Poisson equation.\n",
    "\n",
    "\\begin{align}\n",
    "-\\Delta u(\\boldsymbol{x}) & =f(\\boldsymbol{x}), & \\boldsymbol{x}\\mbox{ in }\\Omega\\\\\n",
    "u(\\boldsymbol{x}) & =u_{D}(\\boldsymbol{x}), & \\boldsymbol{x}\\mbox{ on }\\partial\\Omega\n",
    "\\end{align}\n",
    "\n",
    "Here, $u=u(\\boldsymbol{x})$ is the unknown function, $f=f(\\boldsymbol{x})$ is a prescribed function, $\\Delta$ is the Laplace operator (sometimes written as $\\nabla^2$), $\\Omega$ is the spatial domain, and $\\partial \\Omega$ is the boundary of $\\Omega$. \n",
    "\n",
    "The Poisson problem above is an example of a boundary-value problem. In two space dimensions with coordinates $x$ and $y$, we can write out the Poisson equation as\n",
    "\\begin{equation}\n",
    "-\\frac{\\partial^2 u}{\\partial x^2}-\\frac{\\partial^2 u}{\\partial y^2} = f(x,y).\n",
    "\\end{equation}\n",
    "The unknown $u$ is now a function of two variables, $u=u(x,y)$, defined over a two-dimensional domain $\\Omega$.\n",
    "\n",
    "The Poisson equation arises in numerous physical contexts, including heat conduction, electrostatics, diffusion of substances, twisting of elastic rods, inviscid fluid flow, and water waves. Moreover, the equation appears in numerical splitting strategies for more complicated systems of PDEs, in particular the Navier–Stokes equations.\n"
   ]
  },
  {
   "cell_type": "markdown",
   "metadata": {},
   "source": [
    "## Variational formulation\n",
    "\n",
    "The finite element method (FEM) is a variational method. More specifically, it is a *weighted residual method*. In other words, instead of requiring the PDE to be satisfied exactly everywhere in $\\Omega$, we require to be satisfied in a weighted sense, given by the *variational form*:\n",
    "$$\n",
    "\\begin{equation}\n",
    "-\\int_\\Omega (\\Delta u) v\\ \\mathrm{d}\\boldsymbol{x} = \\int_\\Omega f(x) v\\ \\mathrm{d}\\boldsymbol{x},\n",
    "\\end{equation}\n",
    "$$\n",
    "for all the *test functions* (or *weight functions*) $v$ in a space $\\mathcal{V}$, and\n",
    "$\\mathrm{d}\\boldsymbol{x}$ denotes the area and volume measures in 2-D and 3-D, respectively."
   ]
  },
  {
   "cell_type": "markdown",
   "metadata": {},
   "source": [
    "### Integration by parts\n",
    "One advantage of variational forms is that we can reducing its order using integration by parts. In particular, \n",
    "$$\n",
    "\\begin{equation}\n",
    "\\int_\\Omega -(\\Delta u) v\\ \\mathrm{d}\\boldsymbol{x} = \\int_\\Omega \\boldsymbol{\\nabla} u \\cdot \\boldsymbol{\\nabla} v\\ \\mathrm{d}\\boldsymbol{x} + \\int_{\\partial\\Omega} \\frac{\\partial u}{\\partial \\boldsymbol{n}}  v\\ \\mathrm{d}\\boldsymbol{s},\n",
    "\\end{equation}\n",
    "$$\n",
    "where $\\dfrac{\\partial u}{\\partial \\boldsymbol{n}} = \\boldsymbol{\\nabla} u \\cdot \\boldsymbol{n}$ is the derivative of $u$ in the outward normal direction $\\boldsymbol{n}$ on the boundary, and $\\mathrm{d}\\boldsymbol{s}$ is a measure of surface area.\n",
    "\n",
    "If $v$ is chosen such that it vanishes along the boundary, i.e. $v(\\boldsymbol{x})$ for each point $(\\boldsymbol{x})$ on $\\partial \\Omega$, then the second term in the right-hand side is equal to $0$. Substituting the first term into the variational form, we then obtain\n",
    "$$\n",
    "\\begin{equation}\n",
    "\\int_\\Omega \\boldsymbol{\\nabla} u \\cdot \\boldsymbol{\\nabla} v\\ \\mathrm{d}\\boldsymbol{x} = \\int_\\Omega f(x) v\\ \\mathrm{d}\\boldsymbol{x}.\n",
    "\\end{equation}\n",
    "$$\n",
    "This is known as the *weak form* of the original PDE. "
   ]
  },
  {
   "cell_type": "markdown",
   "metadata": {},
   "source": [
    "### Trial functions\n",
    "To convert the weak form into an algebraic equation, we express $u$ as a linear combination of another set of functions $\\phi_i$, i.e., $u=\\sum_{i=1}^n{u_i}{\\phi_i}$. Then there are $n$ unknowns, $u_1, u_2, \\dots, u_n$. For scalar equations with $n$ degrees of freedom, we then need $n$ test functions to obtain $n$ equations for $n$ unknowns.\n",
    "\n",
    "The basis functions $\\phi_i$ are also called the *trial functions*. The spaces spanned by the $\\phi_i$ and by the $v_i$ are called the *trial space* and *test space*, respectively."
   ]
  },
  {
   "cell_type": "markdown",
   "metadata": {},
   "source": [
    "## A model problem\n",
    "\n",
    "Here we construct a model problem with the exact solution. \n",
    "$$u_e(x,y)=1+x^2+2y^2$$\n",
    "\n",
    "Therefore, \n",
    "$$f(x,y)=−6,$$\n",
    "with Dirichlet boundary condition\n",
    "$$u_D(x,y)=u_e(x,y)=1+x^2+2y^2.$$\n",
    " \n",
    " We will demonstrate how to use FEniCS to solve this problem on a unit square."
   ]
  },
  {
   "cell_type": "markdown",
   "metadata": {},
   "source": [
    "## Import packages\n",
    "\n",
    "We start by importing `fenics` (Note that older example codes import `dolfin` instead of `fenics`). This would import the key classes `UnitSquareMesh`, `FunctionSpace`, `Function`, etc. All FEniCS programs for solving PDEs by the finite element method normally start with this line.\n",
    "\n",
    "In addition, we also import `matplotlib` for plotting, and use the command `%matplotlib inline` to plot the result in the Notebook."
   ]
  },
  {
   "cell_type": "code",
   "execution_count": 1,
   "metadata": {
    "collapsed": true
   },
   "outputs": [],
   "source": [
    "from fenics import *\n",
    "%matplotlib inline"
   ]
  },
  {
   "cell_type": "markdown",
   "metadata": {},
   "source": [
    "## Generating a mesh\n",
    "\n",
    "Next, we generate a simple triangular mesh over the unit square $[0,1]×[0,1]$, by dividing 8x8 squares. The number of nodes are $9\\cdot 9 =81$, and the number of triangles is $8\\cdot 8\\cdot 2=128$.\n",
    "\n",
    "The following statements generate and plots the mesh. In the Notebook, the mesh will be plotted inline. "
   ]
  },
  {
   "cell_type": "code",
   "execution_count": 2,
   "metadata": {},
   "outputs": [
    {
     "data": {
      "text/plain": [
       "[<matplotlib.lines.Line2D at 0x7ff9affc0ac8>,\n",
       " <matplotlib.lines.Line2D at 0x7ff9affc0d30>]"
      ]
     },
     "execution_count": 2,
     "metadata": {},
     "output_type": "execute_result"
    },
    {
     "data": {
      "image/png": "[encoded data removed]",
      "text/plain": [
       "<matplotlib.figure.Figure at 0x7ff9b228bf60>"
      ]
     },
     "metadata": {},
     "output_type": "display_data"
    }
   ],
   "source": [
    "# Create mesh and define function space\n",
    "mesh = UnitSquareMesh(8, 8)\n",
    "plot(mesh)"
   ]
  },
  {
   "cell_type": "markdown",
   "metadata": {},
   "source": [
    "Note: When running in an interactive environment outside of Jupyter Notebook, you may need to call \n",
    "```\n",
    "matplotlib.pyplot.show()\n",
    "```\n",
    "in order to display the plot."
   ]
  },
  {
   "cell_type": "markdown",
   "metadata": {},
   "source": [
    "## Defining function space\n",
    "\n",
    "We define a finite element function space. The second argument 'P' specifies the type of element. The type of element here is $P$, implying the standard Lagrange family of elements. You may also use 'Lagrange' of 'CG' to specify this type of element. The argument can also be 'DG' for discontinuous Galerkin methods.\n",
    "\n",
    "The third argument specifies the degree of the functions. Here, the functions are piecewise linear."
   ]
  },
  {
   "cell_type": "code",
   "execution_count": 3,
   "metadata": {},
   "outputs": [],
   "source": [
    "V = FunctionSpace(mesh, 'P', 1)"
   ]
  },
  {
   "cell_type": "markdown",
   "metadata": {},
   "source": [
    "Note: As of version 2016.2, FEniCS support all simplex elements in 1-D, 2-D and 3-D up to cubic elements, as those shown in the [Periodic Table of the Finite Elements]( https://www.femtable.org/). However, there is no support for quadrilateral or hexahedral elements yet."
   ]
  },
  {
   "cell_type": "markdown",
   "metadata": {},
   "source": [
    "## Specifying trial and test functions\n",
    "\n",
    "In the Galerkin methods, the trial and test functions belong to the same function space."
   ]
  },
  {
   "cell_type": "code",
   "execution_count": 4,
   "metadata": {
    "collapsed": true
   },
   "outputs": [],
   "source": [
    "u = TrialFunction(V)\n",
    "v = TestFunction(V)"
   ]
  },
  {
   "cell_type": "markdown",
   "metadata": {},
   "source": [
    "## Defining the variational problem\n",
    "\n",
    "We need to specify the variational problem\n",
    "$$\\int_\\Omega \\boldsymbol{\\nabla} u \\cdot \\boldsymbol{\\nabla} v\\ \\mathrm{d}\\boldsymbol{x} = \\int_\\Omega f(x) v\\ \\mathrm{d}\\boldsymbol{x}.$$\n",
    "\n",
    "In FEniCS, the variational form is specified by translating the mathematical expressions of the integrands into a [Unified Form Language (UFL)](http://fenics.readthedocs.io/projects/ufl/en/latest/manual/form_language.html), which is a domain-specific language based on Python and C++ syntax."
   ]
  },
  {
   "cell_type": "code",
   "execution_count": 5,
   "metadata": {
    "collapsed": true
   },
   "outputs": [],
   "source": [
    "# Define variational problem\n",
    "a = dot(grad(u), grad(v))*dx\n",
    "\n",
    "f = Constant(-6.0)\n",
    "L = f*v*dx"
   ]
  },
  {
   "cell_type": "markdown",
   "metadata": {},
   "source": [
    "Here, `a` is the integrand on the left-hand side, `L` is the integrand on the right-hand side, `dx` denotes the measure. Since `Constant(-6.0)` defines a constant expression. Another way to write it is \n",
    "\n",
    "```f = Expression('-6', degree=0)```\n",
    "\n",
    "The  UFL is an integral part of FEniCS. An interesting feature of FEniCS is that it performs just-in-time (JIT) to translate the UFL into C++ code."
   ]
  },
  {
   "cell_type": "markdown",
   "metadata": {},
   "source": [
    "## Defining boundary conditions\n",
    "\n",
    "The Poison equations do not have a unique solution  without proper boundary conditions. Next, we need to specify the boundary condition $u=u_D$ on $\\partial \\Omega$. We need to define an expression for $u_D$ and a function to indicate whether a point is on $\\partial \\Omega$.\n",
    "\n",
    "For our specific model problem, $u_D = 1+x^2+2y^2$. The UFL specification uses a character string containing an expression in C++ syntax. In particular, $x$ and $y$ coordinates will be denoted as `x[0]` and `x[1]`. In 3D, the $z$ coordinate will be denoted as `x[2]`."
   ]
  },
  {
   "cell_type": "code",
   "execution_count": 6,
   "metadata": {},
   "outputs": [],
   "source": [
    "# Define boundary condition\n",
    "u_D = Expression('1 + x[0]*x[0] + 2*x[1]*x[1]', degree=2)"
   ]
  },
  {
   "cell_type": "markdown",
   "metadata": {},
   "source": [
    "We set the degree to 2 so that `u_D` may represent the exact quadratic solution to our test problem.\n",
    "\n",
    "We also need to define an indicator to determine whether a point is on the Dirichlet boundary, and then specify the boundary condition."
   ]
  },
  {
   "cell_type": "code",
   "execution_count": 7,
   "metadata": {
    "collapsed": true
   },
   "outputs": [],
   "source": [
    "def boundary(x, on_boundary):\n",
    "    return on_boundary\n",
    "\n",
    "bc = DirichletBC(V, u_D, boundary)"
   ]
  },
  {
   "cell_type": "markdown",
   "metadata": {},
   "source": [
    "At input, `on_boundary` specifies whether a node is on the physical boundary. We will show how to define more complicated boundary conditions in later examples."
   ]
  },
  {
   "cell_type": "markdown",
   "metadata": {},
   "source": [
    "## Forming and solving the linear system\n",
    "\n",
    "We are now ready to solve the PDE using the solve function."
   ]
  },
  {
   "cell_type": "code",
   "execution_count": 8,
   "metadata": {},
   "outputs": [],
   "source": [
    "# Compute solution\n",
    "u = Function(V)\n",
    "solve(a == L, u, bc)"
   ]
  },
  {
   "cell_type": "markdown",
   "metadata": {},
   "source": [
    "We can also explicitly form the linear system and solve it instead.\n",
    "```\n",
    "A, b = assemble_system(a, L, bc)\n",
    "solve(A, u.vector(), b)\n",
    "```\n",
    "This may be useful if we need to modify the matrix and vector, or export them to files."
   ]
  },
  {
   "cell_type": "markdown",
   "metadata": {},
   "source": [
    "## Post processing\n",
    "We can then plot the solution and the mesh together for inspection:"
   ]
  },
  {
   "cell_type": "code",
   "execution_count": 9,
   "metadata": {},
   "outputs": [
    {
     "data": {
      "text/plain": [
       "[<matplotlib.lines.Line2D at 0x7ff9ad23e518>,\n",
       " <matplotlib.lines.Line2D at 0x7ff9ad23ed30>]"
      ]
     },
     "execution_count": 9,
     "metadata": {},
     "output_type": "execute_result"
    },
    {
     "data": {
      "image/png": "[encoded data removed]",
      "text/plain": [
       "<matplotlib.figure.Figure at 0x7ff9afcf4ac8>"
      ]
     },
     "metadata": {},
     "output_type": "display_data"
    }
   ],
   "source": [
    "# Plot solution and mesh\n",
    "plot(u)\n",
    "plot(mesh)"
   ]
  },
  {
   "cell_type": "markdown",
   "metadata": {},
   "source": [
    "We can also save the result into a VTK file for more advanced visualization and post-processing using [ParaView](https://www.paraview.org/) (recommended for FEniCS), [VisIt](https://visit.llnl.gov/), etc."
   ]
  },
  {
   "cell_type": "code",
   "execution_count": 10,
   "metadata": {
    "collapsed": true
   },
   "outputs": [],
   "source": [
    "# Save solution to file in VTK format\n",
    "vtkfile = File('poisson/solution.pvd')\n",
    "vtkfile << u"
   ]
  },
  {
   "cell_type": "markdown",
   "metadata": {},
   "source": [
    "In FEniCS, it is easy to perform some error analysis."
   ]
  },
  {
   "cell_type": "code",
   "execution_count": 11,
   "metadata": {},
   "outputs": [
    {
     "name": "stdout",
     "output_type": "stream",
     "text": [
      "error_L2  = 0.008235098073354806\n",
      "error_max = 1.33226762955e-15\n"
     ]
    }
   ],
   "source": [
    "# Compute error in L2 norm\n",
    "error_L2 = errornorm(u_D, u, 'L2')\n",
    "\n",
    "# Compute maximum error at vertices\n",
    "vertex_values_u_D = u_D.compute_vertex_values(mesh)\n",
    "vertex_values_u = u.compute_vertex_values(mesh)\n",
    "\n",
    "import numpy as np\n",
    "error_max = np.max(np.abs(vertex_values_u_D - vertex_values_u))\n",
    "\n",
    "# Print errors\n",
    "print('error_L2  =', error_L2)\n",
    "print('error_max =', error_max)"
   ]
  },
  {
   "cell_type": "markdown",
   "metadata": {},
   "source": [
    "## More on expressions\n",
    "\n",
    "Note that the expression must be a valid C++ expression. It is similar to Python expressions, except that the power operator `**` has no direct correspondence in C++. You must write `x**p` as `pow(x, p)`. \n",
    "\n",
    "Any functions declared in the C++  header file `cmath` can be used in the C++ expression, such as `cos`, `acos`, `cosh`, `exp`,  `log`, `modf`, `sqrt`, `ceil`, `fabs`, etc.\n",
    "\n",
    "There cannot be `if` branches in the expression. However, one can use the inline branching (the ? and : combination) in C++. For example, the function\n",
    "$$\n",
    "f(x,y)=\\begin{cases}\n",
    "x^{2}, & x,y\\ge0,\\\\\n",
    "2, & \\text{otherwise},\n",
    "\\end{cases}\n",
    "$$\n",
    "can be implemented as "
   ]
  },
  {
   "cell_type": "code",
   "execution_count": 12,
   "metadata": {},
   "outputs": [],
   "source": [
    "f = Expression('x[0]>=0 && x[1]>=0 ? pow(x[0], 2) : 2', degree=2)"
   ]
  },
  {
   "cell_type": "markdown",
   "metadata": {},
   "source": [
    "Parameters in expression strings are allowed, but must be initialized via keyword arguments when creating the Expression object. \n",
    "\n",
    "For example, the function $f(x)=e^{-\\kappa \\pi ^2 t}\\sin(\\pi \\kappa x)$ can be coded as"
   ]
  },
  {
   "cell_type": "code",
   "execution_count": 13,
   "metadata": {},
   "outputs": [],
   "source": [
    "f = Expression('exp(-kappa*pow(pi, 2)*t)*sin(pi*k*x[0])', degree=2, kappa=1.0, t=0, k=4)"
   ]
  },
  {
   "cell_type": "markdown",
   "metadata": {},
   "source": [
    "At any time, parameters can be updated. For example:"
   ]
  },
  {
   "cell_type": "code",
   "execution_count": 14,
   "metadata": {
    "collapsed": true
   },
   "outputs": [],
   "source": [
    "f.t += 0.1\n",
    "f.k = 10"
   ]
  },
  {
   "cell_type": "markdown",
   "metadata": {},
   "source": [
    "## More on boundary conditions\n",
    "\n",
    "To specify boundary conditions, we used a user-defined function `boundary` above. This function will be called for every discrete point in the mesh, including the internal points. The argument `on_boundary` is True if `x` is on the physical boundary of the mesh and is False if `x` is inside the domain. This function must return a boolean value. The argument `on_boundary` may be omitted.\n",
    "\n",
    "You might wonder why we need this function, and why it needs to be called for all the nodes of the mesh. The reason for the first question is that there may be different types of boundary conditions, and there may be different expressions for the same type of boundary conditions. Therefore, the `solve` function can take a list of boundary conditions. An object returned by `DirichletBC` specifies a particular expression of boundary conditions, and the return value of its `boundary` function indicates whether a particular point is associated with this particular expression. For example, "
   ]
  },
  {
   "cell_type": "code",
   "execution_count": 15,
   "metadata": {},
   "outputs": [
    {
     "data": {
      "text/plain": [
       "[<matplotlib.lines.Line2D at 0x7ff9abdd6860>,\n",
       " <matplotlib.lines.Line2D at 0x7ff9abddd128>]"
      ]
     },
     "execution_count": 15,
     "metadata": {},
     "output_type": "execute_result"
    },
    {
     "data": {
      "image/png": "[encoded data removed]",
      "text/plain": [
       "<matplotlib.figure.Figure at 0x7ff9ad170a20>"
      ]
     },
     "metadata": {},
     "output_type": "display_data"
    }
   ],
   "source": [
    "# Note that here we compare the values using a tolerance, instead of \n",
    "# compare directly with the exact value to avoid rounding errors.\n",
    "tol = 1E-14\n",
    "def left_boundary(x, on_boundary):\n",
    "    return on_boundary and abs(x[0]) < tol\n",
    "    \n",
    "def right_boundary(x, on_boundary):\n",
    "    return on_boundary and abs(x[0] - 1) < tol\n",
    "\n",
    "# Note that the argument on_boundary may be omitted\n",
    "def top_boundary(x):\n",
    "    return abs(x[1] -1 ) < tol\n",
    "    \n",
    "def bottom_boundary(x):\n",
    "    return abs(x[1]) < tol\n",
    "\n",
    "u_L = Expression('1 + 2*x[1]*x[1]', degree=2)\n",
    "bc_L = DirichletBC(V, u_L, left_boundary)\n",
    "\n",
    "u_R = Expression('0', degree=2)\n",
    "bc_R = DirichletBC(V, u_R, right_boundary)\n",
    "\n",
    "bcs = [bc_L, bc_R]\n",
    "\n",
    "u = Function(V)\n",
    "solve(a == L, u, bcs)\n",
    "\n",
    "plot(u)\n",
    "plot(mesh)"
   ]
  },
  {
   "cell_type": "markdown",
   "metadata": {},
   "source": [
    "Regarding the second question, by looping through the internal nodes, it allows the definition of internal boundary, for example when the mesh is composed of subdomains of different materials. See [Subdomains and boundary conditions](https://fenicsproject.org/pub/tutorial/sphinx1/._ftut1005.html) for more detail."
   ]
  },
  {
   "cell_type": "markdown",
   "metadata": {},
   "source": [
    "**Acknowledgment**: This notebook was adapted from Chapter 1 of [The FEniCS Tutorial Volume I](https://fenicsproject.org/pub/tutorial/sphinx1/) by Hans Petter Langtangen and Anders Logg, released under CC Attribution 4.0 license."
   ]
  }
 ],
 "metadata": {
  "kernelspec": {
   "display_name": "Python 3",
   "language": "python",
   "name": "python3"
  },
  "language_info": {
   "codemirror_mode": {
    "name": "ipython",
    "version": 3
   },
   "file_extension": ".py",
   "mimetype": "text/x-python",
   "name": "python",
   "nbconvert_exporter": "python",
   "pygments_lexer": "ipython3",
   "version": "3.5.2"
  },
  "latex_envs": {
   "LaTeX_envs_menu_present": true,
   "autocomplete": true,
   "bibliofile": "biblio.bib",
   "cite_by": "apalike",
   "current_citInitial": 1,
   "eqLabelWithNumbers": true,
   "eqNumInitial": 1,
   "hotkeys": {
    "equation": "Ctrl-E",
    "itemize": "Ctrl-I"
   },
   "labels_anchors": false,
   "latex_user_defs": false,
   "report_style_numbering": false,
   "user_envs_cfg": false
  }
 },
 "nbformat": 4,
 "nbformat_minor": 2
}
