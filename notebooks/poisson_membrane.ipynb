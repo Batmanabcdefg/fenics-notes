{
 "cells": [
  {
   "cell_type": "markdown",
   "metadata": {
    "deletable": true,
    "editable": true
   },
   "source": [
    "# Case study: deflection of a membrane\n",
    "\n",
    "We consider a more physically meaningful model:\n",
    "\\begin{equation}\n",
    "-\\boldsymbol{\\nabla}^2w = 4\\exp{\\left(\n",
    "- \\beta^2(x^2\n",
    "+ (y-R_0)^2)\\right)},\n",
    "\\end{equation}\n",
    "to be solved over the unit disc with $w=0$ on the boundary. This model is related to the calculation of the deflection of a membrane. Here, $\\beta$ is a dimensionless parameter, and $[0, R_0]$ is the location of the pressure peak.\n",
    "Some more details about the background of the problem can be found at the end of this Notebook.\n",
    "\n",
    "We now modify the code to solve this new problem."
   ]
  },
  {
   "cell_type": "markdown",
   "metadata": {
    "deletable": true,
    "editable": true
   },
   "source": [
    "## Implementation in FEniCS\n",
    "\n",
    "### Import packages\n",
    "\n",
    "We start by importing fenics and enforcing matplotlib. In addition, we import mshr for mesh generation."
   ]
  },
  {
   "cell_type": "code",
   "execution_count": null,
   "metadata": {
    "collapsed": false,
    "deletable": true,
    "editable": true
   },
   "outputs": [],
   "source": [
    "from fenics import *\n",
    "from mshr import *\n",
    "\n",
    "%matplotlib inline"
   ]
  },
  {
   "cell_type": "markdown",
   "metadata": {
    "deletable": true,
    "editable": true
   },
   "source": [
    "### Generate the mesh and define function space\n",
    "\n",
    "A mesh over the unit disk can be created by the mshr tool in FEniCS.\n",
    "\n",
    "In particular, we can the `Circle` class. It defines a domain by taking\n",
    "the center and radius of the circle as arguments. We can then generate\n",
    "the mesh for the domain using the `generate_mesh` function. The second argument \n",
    "to the `generate_mesh` function specifies the desired mesh resolution. The \n",
    "cell size will be (approximately) equal to the diameter of the domain \n",
    "divided by the resolution."
   ]
  },
  {
   "cell_type": "code",
   "execution_count": null,
   "metadata": {
    "collapsed": false,
    "deletable": true,
    "editable": true
   },
   "outputs": [],
   "source": [
    "domain = Circle(Point(0, 0), 1)\n",
    "mesh = generate_mesh(domain, 16)\n",
    "plot(mesh)\n",
    "\n",
    "V = FunctionSpace(mesh, 'P', 2)"
   ]
  },
  {
   "cell_type": "markdown",
   "metadata": {
    "deletable": true,
    "editable": true
   },
   "source": [
    "Similarly, we can also generate a 3-D mesh using the following commands:\n",
    "```\n",
    "domain = Sphere(Point(0, 0), 1)\n",
    "mesh = generate_mesh(domain, 16)\n",
    "plot(mesh)\n",
    "```"
   ]
  },
  {
   "cell_type": "markdown",
   "metadata": {
    "deletable": true,
    "editable": true
   },
   "source": [
    "### Define the Variational Problem"
   ]
  },
  {
   "cell_type": "code",
   "execution_count": null,
   "metadata": {
    "collapsed": true,
    "deletable": true,
    "editable": true
   },
   "outputs": [],
   "source": [
    "w = TrialFunction(V)\n",
    "v = TestFunction(V)\n",
    "a = dot(grad(w), grad(v))*dx\n",
    "L = p*v*dx"
   ]
  },
  {
   "cell_type": "markdown",
   "metadata": {
    "deletable": true,
    "editable": true
   },
   "source": [
    "### Define the load\n",
    "\n",
    "The right-hand side pressure function\n",
    "is represented by an `Expression` object. There\n",
    "are two physical parameters in the formula for $f$ that enter the\n",
    "expression string and these parameters must have their values set\n",
    "by keyword arguments:"
   ]
  },
  {
   "cell_type": "code",
   "execution_count": null,
   "metadata": {
    "collapsed": false,
    "deletable": true,
    "editable": true
   },
   "outputs": [],
   "source": [
    "beta = 8\n",
    "R0 = 0.6\n",
    "p = Expression('4*exp(-pow(beta, 2)*(pow(x[0], 2) + pow(x[1] - R0, 2)))',\n",
    "               degree=1, beta=beta, R0=R0)"
   ]
  },
  {
   "cell_type": "markdown",
   "metadata": {
    "deletable": true,
    "editable": true
   },
   "source": [
    "The coordinates in `Expression` objects are always an array\n",
    "`x` with components `x[0]`, `x[1]`, and `x[2]`, corresponding to\n",
    "$x$, $y$, and $z$.\n",
    "Otherwise we are free to introduce names of parameters as long as\n",
    "these are given default values by keyword arguments. All the\n",
    "parameters initialized by keyword arguments can at any time have their\n",
    "values modified. For example, we may set\n",
    "```\n",
    "p.beta = 12\n",
    "p.R0 = 0.3\n",
    "```"
   ]
  },
  {
   "cell_type": "markdown",
   "metadata": {
    "deletable": true,
    "editable": true
   },
   "source": [
    "We also need to define a function space and boundary conditions:"
   ]
  },
  {
   "cell_type": "code",
   "execution_count": null,
   "metadata": {
    "collapsed": false,
    "deletable": true,
    "editable": true
   },
   "outputs": [],
   "source": [
    "def u0_boundary(x, on_boundary):\n",
    "    return on_boundary\n",
    "\n",
    "u0 = Constant(0)\n",
    "bc = DirichletBC(V, u0, u0_boundary)"
   ]
  },
  {
   "cell_type": "markdown",
   "metadata": {
    "deletable": true,
    "editable": true
   },
   "source": [
    "### Solve the variational problem\n",
    "\n",
    "The variational problem and the boundary conditions are the same as in\n",
    "our first Poisson problem, but we may introduce `w` instead of `u` as\n",
    "primary unknown and `p` instead of `f` as right-hand side function:"
   ]
  },
  {
   "cell_type": "code",
   "execution_count": null,
   "metadata": {
    "collapsed": false,
    "deletable": true,
    "editable": true
   },
   "outputs": [],
   "source": [
    "w = Function(V)\n",
    "solve(a == L, w, bc)"
   ]
  },
  {
   "cell_type": "markdown",
   "metadata": {
    "deletable": true,
    "editable": true
   },
   "source": [
    "## Post-Processing\n",
    "### Plot the solution\n",
    "\n",
    "It is of interest to visualize the pressure $p$ along with the\n",
    "deflection $w$ so that we may examine the membrane's response to the\n",
    "pressure. We must then transform the formula (`Expression`) to a\n",
    "finite element function (`Function`). The most natural approach is to\n",
    "construct a finite element function whose degrees of freedom are\n",
    "calculated from $p$. That is, we interpolate $p$ to the function space\n",
    "$\\mathcal{V}$:"
   ]
  },
  {
   "cell_type": "code",
   "execution_count": null,
   "metadata": {
    "collapsed": true,
    "deletable": true,
    "editable": true
   },
   "outputs": [],
   "source": [
    "p = interpolate(p, V)"
   ]
  },
  {
   "cell_type": "markdown",
   "metadata": {
    "deletable": true,
    "editable": true
   },
   "source": [
    "Note that the assignment to `p` destroys the previous `Expression`\n",
    "object `p`, so if it is of interest to still have access to this\n",
    "object, another name must be used for the `Function` object returned\n",
    "by `interpolate`. The two functions `w` and `p` may be plotted\n",
    "using the built-in plot command:"
   ]
  },
  {
   "cell_type": "code",
   "execution_count": null,
   "metadata": {
    "collapsed": false,
    "deletable": true,
    "editable": true
   },
   "outputs": [],
   "source": [
    "plot(w, title='Deflection')\n",
    "plot(p, title='Load')"
   ]
  },
  {
   "cell_type": "code",
   "execution_count": null,
   "metadata": {
    "collapsed": true,
    "deletable": true,
    "editable": true
   },
   "outputs": [],
   "source": [
    "vtkfile_w = File('poisson_membrane/deflection.pvd')\n",
    "vtkfile_w << w\n",
    "vtkfile_p = File('poisson_membrane/load.pvd')\n",
    "vtkfile_p << p"
   ]
  },
  {
   "cell_type": "markdown",
   "metadata": {
    "deletable": true,
    "editable": true
   },
   "source": [
    "### Make curve plots through the domain\n",
    "\n",
    "Another way to compare the deflection and the load is to make a curve plot\n",
    "along the line $x=0$. This is just a matter of defining a set of points\n",
    "along the $y$-axis and evaluating the finite element functions `w` and `p`\n",
    "at these points:"
   ]
  },
  {
   "cell_type": "code",
   "execution_count": null,
   "metadata": {
    "collapsed": false,
    "deletable": true,
    "editable": true
   },
   "outputs": [],
   "source": [
    "# Curve plot along x = 0 comparing p and w\n",
    "import numpy as np\n",
    "import matplotlib.pyplot as plt\n",
    "\n",
    "tol = 0.001  # avoid hitting points outside the domain\n",
    "y = np.linspace(-1 + tol, 1 - tol, 101)\n",
    "points = [(0, y_) for y_ in y]  # 2D points\n",
    "w_line = np.array([w(point) for point in points])\n",
    "p_line = np.array([p(point) for point in points])\n",
    "plt.plot(y, 50*w_line, 'k', linewidth=2)  # magnify w\n",
    "plt.plot(y, p_line, 'b--', linewidth=2)\n",
    "plt.grid(True)\n",
    "plt.xlabel('$y$')\n",
    "plt.legend(['Deflection ($\\\\times 50$)', 'Load'], loc='upper left')\n",
    "plt.savefig('poisson_membrane/curves.pdf')\n",
    "plt.savefig('poisson_membrane/curves.png')"
   ]
  },
  {
   "cell_type": "markdown",
   "metadata": {
    "deletable": true,
    "editable": true
   },
   "source": [
    "### Visualize using ParaView\n",
    "\n",
    "We also export the solutions in VTK format for visualization in [ParaView](http://www.paraview.org/), \n",
    "which is a powerful tool for visualizing  scalar and vector fields, including those\n",
    "computed by FEniCS.\n",
    "\n",
    "We first export the solution in VTK format:"
   ]
  },
  {
   "cell_type": "markdown",
   "metadata": {
    "deletable": true,
    "editable": true
   },
   "source": [
    "The following steps demonstrate how to create a plot of the solution\n",
    "of our Poisson problem in ParaView.\n",
    "\n",
    " - Start the ParaView application.\n",
    " - Click **File--Open...** in the top menu and navigate to the directory containing the exported solution. This should be inside a subdirectory named `poisson_membrane` below the directory where the FEniCS Python program was started. Select the file named `deflection.pvd` and then click **OK**.\n",
    " - Click **Apply** in the Properties pane on the left. This will bring up a plot of the solution.\n",
    " - To make a 3D plot of the solution, we will make use of one of ParaView's many *filters*. Click **Filters--Alphabetical--Warp By Scalar** in the top menu and then **Apply** in the Properties pane on the left. This create an elevated surface with the height determined by the solution value.\n",
    " - To show the original plot below the elevated surface, click the little eye icon to the left of `deflection.pvd` in the Pipeline Browser pane on the left. Also click the little 2D button at the top of the plot window to change the visualization to 3D. This lets you interact with the plot by rotating (left mouse button) and zooming (Ctrl + left mouse button).\n",
    " - To show the finite element mesh, click on `deflection.pvd` in the Pipeline Browser, navigate to _Representation_ in the Properties pane, and select **Surface With Edges**. This should make the finite element mesh visible.\n",
    " - To change the aspect ratio of the plot, click on **WarpByScalar1** in\n",
    " the Pipeline Browser and navigate to _Scale Factor_ in the Properties\n",
    " pane. Change the value to 10 and click **Apply**. This will change the\n",
    " scale of the warped plot. We also unclick **Orientation Axis\n",
    " Visibility** at the bottom of the Properties pane to remove the little\n",
    " 3D axes in the lower left corner of the plot window.\n",
    " - Finally, to export the visualization to a file, click **File--Save Screenshot...** and select a suitable file name such as `membrane.png`.\n",
    "\n",
    "For more information, we refer to [The ParaView Guide](http://www.paraview.org/paraview-guide/), [ParaView tutorial](\n",
    "http://www.paraview.org/Wiki/The_ParaView_Tutorial), and the instruction\n",
    "video [Introduction to ParaView](https://vimeo.com/34037236)."
   ]
  },
  {
   "cell_type": "markdown",
   "metadata": {
    "deletable": true,
    "editable": true
   },
   "source": [
    "## Note on origin of model problem\n",
    "\n",
    "The model problem is originated from computing the deflection $D(x,y)$ of \n",
    "a two-dimensional, circular membrane of radius $R$, subject to a load $p$ over the\n",
    "membrane. The appropriate PDE model is\n",
    "\n",
    "\\begin{equation}\n",
    "-T\\nabla^2 D = p\\quad\\hbox{in }\\Omega = \\{ (x,y)\\,\\vert\\, x^2+y^2\\leq R\\}\n",
    "\\end{equation}\n",
    "\n",
    "Here, $T$ is the tension in the membrane (constant), and $p$ is the external\n",
    "pressure load.\n",
    "The boundary of the membrane has no\n",
    "deflection, implying $D=0$ as a boundary condition.\n",
    "A localized load can be modeled as a Gaussian function:\n",
    "\n",
    "\\begin{equation}\n",
    "p(x,y) = {A\\over 2\\pi\\sigma}\\exp{\\left(\n",
    "- {1\\over2}\\left( {x-x_0\\over\\sigma}\\right)^2\n",
    "- {1\\over2}\\left( {y-y_0\\over\\sigma}\\right)^2\n",
    "\\right)}\\, .\n",
    "\\end{equation}\n",
    "\n",
    "The parameter $A$ is the amplitude of the pressure, $(x_0,y_0)$ the\n",
    "localization of the maximum point of the load, and $\\sigma$ the\n",
    "``width'' of $p$. We will take the center $(x_0,y_0)$ of the pressure\n",
    "to be $(0, R_0)$ for some $0 < R_0 < R$.\n",
    "\n",
    "There are many physical parameters in this problem. We can benefit\n",
    "from grouping them by means of scaling. Let us introduce dimensionless\n",
    "coordinates $\\bar x = x/R$, $\\bar y = y/R$, and a dimensionless\n",
    "deflection $w=D/D_c$, where $D_c$ is a characteristic size of the\n",
    "deflection. Introducing $\\bar R_0=R_0/R$, we obtain\n",
    "\n",
    "$$ -\\frac{\\partial^2 w}{\\partial\\bar x^2}\n",
    "-\\frac{\\partial^2 w}{\\partial\\bar y^2}= \\alpha\n",
    "\\exp{\\left(\n",
    "- \\beta^2(\\bar x^2\n",
    "+ (\\bar y-\\bar R_0)^2)\\right)}\\hbox{ for } \\bar x^2 + \\bar y^2 < 1,$$\n",
    "\n",
    "where\n",
    "\n",
    "$$ \\alpha = \\frac{R^2A}{2\\pi T D_c\\sigma},\\quad\\beta = \\frac{R}{\\sqrt{2}\\sigma}.$$\n",
    "\n",
    "With an appropriate scaling, $w$ and its derivatives are of size\n",
    "unity, so the left-hand side of the scaled PDE is about unity in size,\n",
    "while the right-hand side has $\\alpha$ as its characteristic size.\n",
    "This suggest choosing $\\alpha$ to be unity, or around unity. We shall\n",
    "in this particular case choose $\\alpha=4$. (One can also find the\n",
    "analytical solution in scaled coordinates and show that the maximum\n",
    "deflection $D(0,0)$ is $D_c$ if we choose $\\alpha=4$ to determine\n",
    "$D_c$.) With $D_c=AR^2/(8\\pi\\sigma T)$ and dropping the bars we obtain\n",
    "the scaled problem\n",
    "\n",
    "\\begin{equation}\n",
    "-\\nabla^2w = 4\\exp{\\left(\n",
    "- \\beta^2(x^2\n",
    "+ (y-R_0)^2)\\right)},\n",
    "\\end{equation}\n",
    "\n",
    "to be solved over the unit disc with $w=0$ on the boundary. Now\n",
    "there are only two parameters to vary: the dimensionless extent of the\n",
    "pressure, $\\beta$, and the localization of the pressure peak, $R_0\\in\n",
    "[0,1]$.  As $\\beta\\rightarrow 0$, the solution will approach the\n",
    "special case $w=1-x^2-y^2$.\n",
    "\n",
    "The above PDE is what we solved above. Given a computed scaled solution $w$, \n",
    "the physical deflection can be computed by\n",
    "$$ D = \\frac{AR^2}{8\\pi\\sigma T}w$$"
   ]
  },
  {
   "cell_type": "markdown",
   "metadata": {
    "deletable": true,
    "editable": true
   },
   "source": [
    "**Acknowledgment**: This notebook was adapted from Chapter 1 of [The FEniCS Tutorial Volume I](https://fenicsproject.org/pub/tutorial/sphinx1/) by Hans Petter Langtangen and Anders Logg, released under CC Attribution 4.0 license."
   ]
  }
 ],
 "metadata": {
  "kernelspec": {
   "display_name": "Python 3",
   "language": "python",
   "name": "python3"
  },
  "language_info": {
   "codemirror_mode": {
    "name": "ipython",
    "version": 3
   },
   "file_extension": ".py",
   "mimetype": "text/x-python",
   "name": "python",
   "nbconvert_exporter": "python",
   "pygments_lexer": "ipython3",
   "version": "3.6.0"
  },
  "latex_envs": {
   "LaTeX_envs_menu_present": true,
   "bibliofile": "biblio.bib",
   "cite_by": "apalike",
   "current_citInitial": 1,
   "eqLabelWithNumbers": true,
   "eqNumInitial": 1,
   "hotkeys": {
    "equation": "Ctrl-E",
    "itemize": "Ctrl-I"
   },
   "labels_anchors": false,
   "latex_user_defs": false,
   "report_style_numbering": false,
   "user_envs_cfg": false
  }
 },
 "nbformat": 4,
 "nbformat_minor": 2
}
