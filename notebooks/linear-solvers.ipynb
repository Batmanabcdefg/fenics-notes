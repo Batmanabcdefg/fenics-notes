{
 "cells": [
  {
   "cell_type": "markdown",
   "metadata": {},
   "source": [
    "# Linear solvers\n",
    "\n",
    "In this Notebook, we will cover how to control the linear solvers in FEniCS, and how to interact with other systems."
   ]
  },
  {
   "cell_type": "markdown",
   "metadata": {},
   "source": [
    "## Interacting with MATLAB/Octave\n",
    "\n",
    "One can export the matrices and vectors in MATLAB's `.mat` format. Note that the default options export dense matrices. The following code fragment shows how to export a matrix in sparse format. Suppose the coefficient matrix and the right-hand side has been assembled using the statement:\n",
    "```\n",
    "# Assemble system\n",
    "A, bb = assemble_system(a, L, bcs)\n",
    "```\n",
    "\n",
    "We can then save the matrix into a `.mat` file \"Ab.mat\" using the following statements:\n",
    "```\n",
    "# Make the backend type sparse\n",
    "A_sp = as_backend_type(A).sparray()\n",
    "\n",
    "# Make the backend type sparse\n",
    "scipy.io.savemat('Ab_stokes_iter3.mat', {'A': A_sp, 'b' : bb.array()}, appendmat=False, format='5', do_compression=True)\n",
    "```"
   ]
  }
 ],
 "metadata": {
  "kernelspec": {
   "display_name": "Python 3",
   "language": "python",
   "name": "python3"
  },
  "language_info": {
   "codemirror_mode": {
    "name": "ipython",
    "version": 3
   },
   "file_extension": ".py",
   "mimetype": "text/x-python",
   "name": "python",
   "nbconvert_exporter": "python",
   "pygments_lexer": "ipython3",
   "version": "3.6.0"
  },
  "latex_envs": {
   "LaTeX_envs_menu_present": true,
   "bibliofile": "biblio.bib",
   "cite_by": "apalike",
   "current_citInitial": 1,
   "eqLabelWithNumbers": true,
   "eqNumInitial": 1,
   "hotkeys": {
    "equation": "Ctrl-E",
    "itemize": "Ctrl-I"
   },
   "labels_anchors": false,
   "latex_user_defs": false,
   "report_style_numbering": false,
   "user_envs_cfg": false
  }
 },
 "nbformat": 4,
 "nbformat_minor": 2
}
