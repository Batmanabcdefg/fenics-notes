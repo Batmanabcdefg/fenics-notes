{
 "cells": [
  {
   "cell_type": "markdown",
   "metadata": {},
   "source": [
    "# Subdivide Cube into Tets #\n",
    "\n",
    "We use a few simple examples to demonstrate some main concepts in mesh generation.\n",
    "\n",
    "We will use FEniCS to plot meshes by importing a mesh into FEniCS from a list of coordinates and a connectivity table."
   ]
  },
  {
   "cell_type": "code",
   "execution_count": 1,
   "metadata": {},
   "outputs": [],
   "source": [
    "from fenics import *\n",
    "\n",
    "%matplotlib inline"
   ]
  },
  {
   "cell_type": "code",
   "execution_count": 2,
   "metadata": {},
   "outputs": [],
   "source": [
    "def import_mesh(coors, conn):\n",
    "    '''Construct a mesh from list of nodal coordinates and connectivity table.'''\n",
    "\n",
    "    dim = coors.shape[1]\n",
    "\n",
    "    mesh = Mesh()\n",
    "    editor = MeshEditor()\n",
    "    editor.open(mesh, dim, dim)\n",
    "\n",
    "    editor.init_vertices(coors.shape[0])  # number of vertices\n",
    "    editor.init_cells(conn.shape[0])      # number of cells\n",
    "\n",
    "    for i in range(coors.shape[0]):\n",
    "        editor.add_vertex(i, coors[i, :])\n",
    "\n",
    "    for i in range(conn.shape[0]):\n",
    "        editor.add_cell(i, conn[i, :], )\n",
    "\n",
    "    editor.close()\n",
    "    \n",
    "    return mesh"
   ]
  },
  {
   "cell_type": "markdown",
   "metadata": {},
   "source": [
    "## How to subdivide a cube into tets ##"
   ]
  },
  {
   "cell_type": "markdown",
   "metadata": {},
   "source": [
    "There are two major approaches to subidivde a cube into tetrahedra."
   ]
  },
  {
   "cell_type": "markdown",
   "metadata": {},
   "source": [
    "### Approach 1: subdividing cube into six tets ###\n",
    "We can subdivide a cube into six tets by first subdividing it into two prisms, and then subdivide each prism into three tets.\n",
    "\n",
    "#### Approach 1a: congruent tets ####\n",
    "We may subdivide a prism into six congruent tets.\n",
    "\n",
    "<a href='https://www.youtube.com/watch?v=ffnVCEAcOns'>\n",
    "<img src='https://www.ics.uci.edu/~eppstein/projects/tetra/sixcube.gif'></a>"
   ]
  },
  {
   "cell_type": "code",
   "execution_count": 3,
   "metadata": {},
   "outputs": [],
   "source": [
    "import numpy as np\n",
    "\n",
    "# construct a list of nodes of a cube\n",
    "coors = np.array([[0., 0., 0.],\n",
    "                  [1., 0., 0.],\n",
    "                  [1., 1., 0.],\n",
    "                  [0., 1., 0.],\n",
    "                  [0., 0., 1.],\n",
    "                  [1., 0., 1.],\n",
    "                  [1., 1., 1.],\n",
    "                  [0., 1., 1.]])"
   ]
  },
  {
   "cell_type": "code",
   "execution_count": 4,
   "metadata": {},
   "outputs": [],
   "source": [
    "# We define a connectivity table of six tets\n",
    "tets6a = np.array([[0, 1, 2, 6],\n",
    "                   [0, 5, 1, 6],\n",
    "                   [0, 4, 5, 6],\n",
    "                   [0, 2, 3, 6],\n",
    "                   [0, 7, 4, 6],\n",
    "                   [0, 3, 7, 6]], dtype=np.uintp)"
   ]
  },
  {
   "cell_type": "markdown",
   "metadata": {},
   "source": [
    "We use the following code to import the tets into a mesh in FEniCS."
   ]
  },
  {
   "cell_type": "code",
   "execution_count": 5,
   "metadata": {},
   "outputs": [
    {
     "data": {
      "image/png": "[encoded data removed]",
      "text/plain": [
       "<matplotlib.figure.Figure at 0x7f602e1340f0>"
      ]
     },
     "metadata": {},
     "output_type": "display_data"
    }
   ],
   "source": [
    "mesh = import_mesh(coors, tets6a)\n",
    "\n",
    "plot(mesh)"
   ]
  },
  {
   "cell_type": "markdown",
   "metadata": {},
   "source": [
    "**Important**: In general, all the tets should have the same orientation, so that the Jacobian determinant is positive everywhere, and outward face normals can be calculated correctly."
   ]
  },
  {
   "cell_type": "code",
   "execution_count": 6,
   "metadata": {},
   "outputs": [],
   "source": [
    "import sys\n",
    "\n",
    "def check_orientation(coords, elems):\n",
    "    dets = np.zeros(elems.shape[0])\n",
    "\n",
    "    for i in range(elems.shape[0]):\n",
    "        nodes = coords[elems[i,:], :]\n",
    "\n",
    "        dets[i] = np.linalg.det(nodes[[1, 2, 3],:]-nodes[[0, 0, 0],:])\n",
    "\n",
    "    if min(dets) <= 0.:\n",
    "        print('Warning: Mimumum volume is not positive.', file=sys.stderr)\n",
    "        \n",
    "    return dets"
   ]
  },
  {
   "cell_type": "code",
   "execution_count": 7,
   "metadata": {},
   "outputs": [
    {
     "data": {
      "text/plain": [
       "array([ 1.,  1.,  1.,  1.,  1.,  1.])"
      ]
     },
     "execution_count": 7,
     "metadata": {},
     "output_type": "execute_result"
    }
   ],
   "source": [
    "dets = check_orientation(coors, tets6a)\n",
    "dets"
   ]
  },
  {
   "cell_type": "markdown",
   "metadata": {},
   "source": [
    "**Warning**:  FEniCS reorders connectivity table in ascending order. This destroys the orientation of the elements. This can be a big headache for mesh manipulation using FEniCS's `Mesh` objects. In addition, this is a reason why FEniCS can only support simplicial elements."
   ]
  },
  {
   "cell_type": "code",
   "execution_count": 8,
   "metadata": {},
   "outputs": [
    {
     "name": "stdout",
     "output_type": "stream",
     "text": [
      "[[0 1 2 6]\n",
      " [0 1 5 6]\n",
      " [0 4 5 6]\n",
      " [0 2 3 6]\n",
      " [0 4 6 7]\n",
      " [0 3 6 7]]\n"
     ]
    },
    {
     "name": "stderr",
     "output_type": "stream",
     "text": [
      "Warning: Mimumum volume is not positive.\n"
     ]
    },
    {
     "data": {
      "text/plain": [
       "array([ 1., -1.,  1.,  1.,  1., -1.])"
      ]
     },
     "execution_count": 8,
     "metadata": {},
     "output_type": "execute_result"
    }
   ],
   "source": [
    "print(mesh.cells())\n",
    "check_orientation(mesh.coordinates(), mesh.cells())"
   ]
  },
  {
   "cell_type": "markdown",
   "metadata": {},
   "source": [
    "If you export a mesh from FEniCS, make sure you check the volumes, and flip two nodes if the volume of an element is negative."
   ]
  },
  {
   "cell_type": "markdown",
   "metadata": {},
   "source": [
    "### Approach 1b: non-congruent tets ###\n",
    "\n",
    "The tets may be non-congruent. We define a connectivity table of six tetrahedra. "
   ]
  },
  {
   "cell_type": "code",
   "execution_count": 9,
   "metadata": {},
   "outputs": [
    {
     "data": {
      "image/png": "[encoded data removed]",
      "text/plain": [
       "<matplotlib.figure.Figure at 0x7f602c031748>"
      ]
     },
     "metadata": {},
     "output_type": "display_data"
    }
   ],
   "source": [
    "tets6b = np.array([[0, 1, 3, 4], \n",
    "                   [1, 3, 4, 5], \n",
    "                   [4, 7, 5, 3],\n",
    "                   [1, 2, 3, 5], \n",
    "                   [2, 3, 5, 7], \n",
    "                   [2, 5, 6, 7]], dtype=np.uintp)\n",
    "\n",
    "mesh = import_mesh(coors, tets6a)\n",
    "plot(mesh)"
   ]
  },
  {
   "cell_type": "code",
   "execution_count": 10,
   "metadata": {},
   "outputs": [
    {
     "data": {
      "text/plain": [
       "array([ 1.,  1.,  1.,  1.,  1.,  1.])"
      ]
     },
     "execution_count": 10,
     "metadata": {},
     "output_type": "execute_result"
    }
   ],
   "source": [
    "dets = check_orientation(coors, tets6b)\n",
    "dets"
   ]
  },
  {
   "cell_type": "markdown",
   "metadata": {},
   "source": [
    "### Approach 2: subdividing cube into five tets ###\n",
    "\n",
    "Another approach is to subdivide the cube into five tets, with a regular tetrahedron in the middle.\n",
    "\n",
    "<a href='https://www.youtube.com/watch?v=XAhgw2Z4T2M'>\n",
    "<img src='https://www.ics.uci.edu/~eppstein/projects/tetra/fivecube.gif'></a>"
   ]
  },
  {
   "cell_type": "code",
   "execution_count": 11,
   "metadata": {},
   "outputs": [
    {
     "data": {
      "image/png": "[encoded data removed]",
      "text/plain": [
       "<matplotlib.figure.Figure at 0x7f602c054860>"
      ]
     },
     "metadata": {},
     "output_type": "display_data"
    }
   ],
   "source": [
    "tets5 = np.array([[0, 1, 3, 4],\n",
    "                  [1, 2, 3, 6],\n",
    "                  [3, 4, 6, 7],\n",
    "                  [1, 3, 4, 6],\n",
    "                  [1, 4, 5, 6]], dtype=np.uintp)\n",
    "\n",
    "mesh = import_mesh(coors, tets6a)\n",
    "plot(mesh)"
   ]
  },
  {
   "cell_type": "code",
   "execution_count": 12,
   "metadata": {},
   "outputs": [
    {
     "data": {
      "text/plain": [
       "array([ 1.,  1.,  1.,  2.,  1.])"
      ]
     },
     "execution_count": 12,
     "metadata": {},
     "output_type": "execute_result"
    }
   ],
   "source": [
    "dets = check_orientation(coors, tets5)\n",
    "dets"
   ]
  },
  {
   "cell_type": "markdown",
   "metadata": {},
   "source": [
    "## Comparisons ##\n",
    "\n",
    "Apprach 1a is commonly used because of its simplicity. It is how FEniCS's function `UnitCubeMesh` generates tetrahedral mesh for unit cube."
   ]
  },
  {
   "cell_type": "code",
   "execution_count": 13,
   "metadata": {},
   "outputs": [
    {
     "data": {
      "text/plain": [
       "(6000, 4)"
      ]
     },
     "execution_count": 13,
     "metadata": {},
     "output_type": "execute_result"
    },
    {
     "data": {
      "image/png": "[encoded data removed]",
      "text/plain": [
       "<matplotlib.figure.Figure at 0x7f602bfe3d30>"
      ]
     },
     "metadata": {},
     "output_type": "display_data"
    }
   ],
   "source": [
    "mesh = UnitCubeMesh(10, 10, 10)\n",
    "plot(mesh)\n",
    "mesh.cells().shape"
   ]
  },
  {
   "cell_type": "markdown",
   "metadata": {},
   "source": [
    "However, is it the best approach?"
   ]
  },
  {
   "cell_type": "markdown",
   "metadata": {},
   "source": [
    "### Dihedral angles ###\n",
    "Compute dihedral angles of tets. "
   ]
  },
  {
   "cell_type": "code",
   "execution_count": 14,
   "metadata": {},
   "outputs": [],
   "source": [
    "import math\n",
    "import itertools\n",
    "\n",
    "def compute_dihedral_angles_tet(nodes):\n",
    "    '''Compute dihedral angles of a tetrahedron '''\n",
    "    \n",
    "    faces = np.array([[0, 1, 2], [1, 0, 3], [0, 2, 3], [2, 1, 3]])\n",
    "\n",
    "    normals = np.zeros([4, 3], dtype=float)\n",
    "    \n",
    "    for i in range(4):\n",
    "        v1 = nodes[faces[i, 1], :] - nodes[faces[i, 0], :]\n",
    "        v2 = nodes[faces[i, 2], :] - nodes[faces[i, 0], :]\n",
    "        normals[i, :] = np.cross(v1, v2)\n",
    "        normals[i, :] /= np.linalg.norm(normals[i, :])\n",
    "\n",
    "    dihedral_angles = np.zeros(6)\n",
    "    pairs = np.array(list(itertools.permutations([0, 1, 2, 3], 2)))\n",
    "\n",
    "    for i in range(6):\n",
    "        dihedral_angles[i] = math.acos(-np.dot(normals[pairs[i, 0], :],\n",
    "                             normals[pairs[i, 1], :])) / math.pi * 180.\n",
    "        \n",
    "    return dihedral_angles\n",
    "\n",
    "def compute_dihedral_angles(coors, tets):\n",
    "    angles = np.zeros([tets.shape[0], 6])\n",
    "\n",
    "    for i in range(tets.shape[0]):\n",
    "        angles[i, :] = compute_dihedral_angles_tet(coors[tets[i, :], :])\n",
    "        \n",
    "    angles = np.sort(angles)       \n",
    "    return angles"
   ]
  },
  {
   "cell_type": "code",
   "execution_count": 15,
   "metadata": {},
   "outputs": [
    {
     "name": "stdout",
     "output_type": "stream",
     "text": [
      "[[ 45.  45.  60.  90.  90.  90.]\n",
      " [ 45.  45.  60.  90.  90.  90.]\n",
      " [ 45.  45.  60.  90.  90.  90.]\n",
      " [ 45.  45.  60.  90.  90.  90.]\n",
      " [ 45.  45.  60.  90.  90.  90.]\n",
      " [ 45.  45.  60.  90.  90.  90.]]\n"
     ]
    }
   ],
   "source": [
    "angles = compute_dihedral_angles(coors, tets6a)\n",
    "\n",
    "np.set_printoptions(precision=2)\n",
    "print(angles)"
   ]
  },
  {
   "cell_type": "code",
   "execution_count": 16,
   "metadata": {},
   "outputs": [
    {
     "name": "stdout",
     "output_type": "stream",
     "text": [
      "[[  54.74   54.74   90.     90.     90.     90.  ]\n",
      " [  35.26   35.26   35.26   45.    120.    125.26]\n",
      " [  45.     45.     90.     90.     90.     90.  ]\n",
      " [  45.     45.     90.     90.     90.     90.  ]\n",
      " [  35.26   45.     45.     45.    120.    125.26]\n",
      " [  54.74   54.74   54.74   54.74   90.     90.  ]]\n"
     ]
    }
   ],
   "source": [
    "angles = compute_dihedral_angles(coors, tets6b)\n",
    "print(angles)"
   ]
  },
  {
   "cell_type": "code",
   "execution_count": 17,
   "metadata": {},
   "outputs": [
    {
     "name": "stdout",
     "output_type": "stream",
     "text": [
      "[[ 54.74  54.74  90.    90.    90.    90.  ]\n",
      " [ 54.74  54.74  90.    90.    90.    90.  ]\n",
      " [ 54.74  54.74  54.74  54.74  90.    90.  ]\n",
      " [ 70.53  70.53  70.53  70.53  70.53  70.53]\n",
      " [ 54.74  54.74  54.74  54.74  90.    90.  ]]\n"
     ]
    }
   ],
   "source": [
    "angles = compute_dihedral_angles(coors, tets5)\n",
    "print(angles)"
   ]
  },
  {
   "cell_type": "markdown",
   "metadata": {},
   "source": [
    "### Angles within faces ###\n",
    "For completeness, we should also compare angles within faces. There are many of them, so we only print out the unique angles."
   ]
  },
  {
   "cell_type": "code",
   "execution_count": 18,
   "metadata": {},
   "outputs": [],
   "source": [
    "def compute_edge_angles_tet(nodes, edge_angles):\n",
    "    '''Compute edge angles within a tetrahedron '''\n",
    "    \n",
    "    faces = np.array([[0, 1, 2], [1, 0, 3], [0, 2, 3], [2, 1, 3]])\n",
    "    edges = np.array([[0, 1], [1, 2], [2, 0], [0, 1]])\n",
    "\n",
    "    normals = np.zeros([4, 3], dtype=float)\n",
    "    \n",
    "    for i in range(4):\n",
    "        face = faces[i, :]\n",
    "\n",
    "        a = [0, 0, 0]\n",
    "\n",
    "        for j in range(3):\n",
    "            v1 = nodes[face[edges[j, 1]], :] - nodes[face[edges[j, 0]], :]\n",
    "            v2 = nodes[face[edges[j+1, 1]], :] - nodes[face[edges[j+1, 0]], :]\n",
    "\n",
    "            a[j] = (math.acos(-np.dot(v1, v2) / \n",
    "                                            np.linalg.norm(v1) / np.linalg.norm(v2)) / \n",
    "                                  math.pi * 180.)\n",
    "            a[j] = round(a[j], 2)\n",
    "        a.sort()\n",
    "        \n",
    "        if a not in edge_angles:\n",
    "            edge_angles.append(a)\n",
    "\n",
    "def compute_edge_angles(coors, tets):\n",
    "    angles = []\n",
    "\n",
    "    for i in range(tets.shape[0]):\n",
    "        compute_edge_angles_tet(coors[tets[i, :], :], angles)\n",
    "\n",
    "    return np.array(angles)"
   ]
  },
  {
   "cell_type": "code",
   "execution_count": 19,
   "metadata": {},
   "outputs": [
    {
     "name": "stdout",
     "output_type": "stream",
     "text": [
      "[[ 45.    45.    90.  ]\n",
      " [ 35.26  54.74  90.  ]]\n"
     ]
    }
   ],
   "source": [
    "angles = compute_edge_angles(coors, tets6a)\n",
    "print(angles)"
   ]
  },
  {
   "cell_type": "code",
   "execution_count": 20,
   "metadata": {},
   "outputs": [
    {
     "name": "stdout",
     "output_type": "stream",
     "text": [
      "[[ 45.    45.    90.  ]\n",
      " [ 60.    60.    60.  ]\n",
      " [ 35.26  54.74  90.  ]]\n"
     ]
    }
   ],
   "source": [
    "angles = compute_edge_angles(coors, tets6b)\n",
    "print(angles)"
   ]
  },
  {
   "cell_type": "code",
   "execution_count": 21,
   "metadata": {},
   "outputs": [
    {
     "name": "stdout",
     "output_type": "stream",
     "text": [
      "[[ 45.  45.  90.]\n",
      " [ 60.  60.  60.]]\n"
     ]
    }
   ],
   "source": [
    "print(compute_edge_angles(coors, tets5))"
   ]
  },
  {
   "cell_type": "markdown",
   "metadata": {},
   "source": [
    "### Longest edge length ###"
   ]
  },
  {
   "cell_type": "code",
   "execution_count": 22,
   "metadata": {},
   "outputs": [],
   "source": [
    "def compute_longest_edge_tet(nodes):\n",
    "    '''Compute dihedral angles of a tetrahedron '''\n",
    "\n",
    "    edges = np.array((list(itertools.combinations([0, 1, 2, 3], 2))))\n",
    "    lens = np.zeros(6)\n",
    "    \n",
    "    for i in range(6):\n",
    "        v = nodes[edges[i, 1], :] - nodes[edges[i, 0], :]\n",
    "        lens[i] = np.linalg.norm(v)\n",
    "\n",
    "    return max(lens)\n",
    "\n",
    "def compute_longest_edge(coors, tets):\n",
    "    lens = np.zeros(tets.shape[0])\n",
    "\n",
    "    for i in range(tets.shape[0]):\n",
    "        lens[i] = compute_longest_edge_tet(coors[tets[i, :], :])\n",
    "        \n",
    "    return max(lens)"
   ]
  },
  {
   "cell_type": "code",
   "execution_count": 23,
   "metadata": {},
   "outputs": [
    {
     "name": "stdout",
     "output_type": "stream",
     "text": [
      "1.73205080757\n"
     ]
    }
   ],
   "source": [
    "print(compute_longest_edge(coors, tets6a))"
   ]
  },
  {
   "cell_type": "code",
   "execution_count": 24,
   "metadata": {},
   "outputs": [
    {
     "name": "stdout",
     "output_type": "stream",
     "text": [
      "1.73205080757\n"
     ]
    }
   ],
   "source": [
    "print(compute_longest_edge(coors, tets6b))"
   ]
  },
  {
   "cell_type": "code",
   "execution_count": 25,
   "metadata": {},
   "outputs": [
    {
     "name": "stdout",
     "output_type": "stream",
     "text": [
      "1.41421356237\n"
     ]
    }
   ],
   "source": [
    "print(compute_longest_edge(coors, tets5))"
   ]
  }
 ],
 "metadata": {
  "kernelspec": {
   "display_name": "Python 3",
   "language": "python",
   "name": "python3"
  },
  "language_info": {
   "codemirror_mode": {
    "name": "ipython",
    "version": 3
   },
   "file_extension": ".py",
   "mimetype": "text/x-python",
   "name": "python",
   "nbconvert_exporter": "python",
   "pygments_lexer": "ipython3",
   "version": "3.5.2"
  },
  "latex_envs": {
   "LaTeX_envs_menu_present": true,
   "autocomplete": true,
   "bibliofile": "biblio.bib",
   "cite_by": "apalike",
   "current_citInitial": 1,
   "eqLabelWithNumbers": true,
   "eqNumInitial": 1,
   "hotkeys": {
    "equation": "Ctrl-E",
    "itemize": "Ctrl-I"
   },
   "labels_anchors": false,
   "latex_user_defs": false,
   "report_style_numbering": false,
   "user_envs_cfg": false
  }
 },
 "nbformat": 4,
 "nbformat_minor": 2
}
