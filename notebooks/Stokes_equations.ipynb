{
 "cells": [
  {
   "cell_type": "markdown",
   "metadata": {},
   "source": [
    "# Stokes equations #\n",
    "\n",
    "This case study illustrates how to:\n",
    "\n",
    "* Maintain symmetry when assembling a system of symmetric equations\n",
    "  with essential (Dirichlet) boundary conditions\n",
    "* Use an iterative solver explicitly for solving a linear system of equations\n",
    "* Define a preconditioner explicitly using a form"
   ]
  },
  {
   "cell_type": "markdown",
   "metadata": {},
   "source": [
    "## Strong form of the Stokes equations ##\n",
    "\n",
    "The incompressible Stokes equations in strong form read: for a domain\n",
    "$\\Omega \\subset \\mathbb{R}^n$, find the velocity $\\boldsymbol{u}$ and\n",
    "the pressure $p$ satisfying\n",
    "\n",
    "\\begin{align}\n",
    "   - \\Delta \\boldsymbol{u} + \\nabla p &= f, \\\\\n",
    "                    \\nabla \\cdot \\boldsymbol{u} &= 0. \\\\\n",
    "\\end{align}\n",
    "\n",
    "The first is the *momentum equation*, obtained from that in the \n",
    "Navier-Stokes equations\n",
    "$$\\rho\\left(\\dot{\\boldsymbol{u}}+\\boldsymbol{u}\\cdot\\boldsymbol{\\nabla}\\boldsymbol{u}\\right) =\\boldsymbol{\\nabla}\\cdot\\boldsymbol{\\sigma}(\\boldsymbol{u},p)+\\boldsymbol{f},$$\n",
    "\n",
    "by setting the left-hand side to $\\boldsymbol{0}$. The stress tensor $\\boldsymbol{\\sigma}$ is\n",
    "\\begin{equation}\n",
    "  \\boldsymbol{\\sigma}(\\boldsymbol{u}, p) = 2\\mu\\boldsymbol{\\epsilon}(\\boldsymbol{u}) - p\\boldsymbol{I},\n",
    "\\end{equation}\n",
    "where $\\boldsymbol{\\epsilon}(\\boldsymbol{u})$ is the strain-rate tensor and $\\mu$ is the dynamic viscosity."
   ]
  },
  {
   "cell_type": "markdown",
   "metadata": {},
   "source": [
    "A typical set of boundary conditions on the boundary $\\partial\n",
    "\\Omega = \\Gamma_{D} \\cup \\Gamma_{N}$ can be:\n",
    "\n",
    "\\begin{align}\n",
    "              \\boldsymbol{u} &= \\boldsymbol{u}_0 \\ \\ \\ \\ {\\rm on} \\ \\Gamma_{D}, \\\\\n",
    "      \\boldsymbol{\\nabla} \\boldsymbol{u} \\cdot \\boldsymbol{n} - p \\boldsymbol{n} &= \\boldsymbol{g}   \\ \\ \\ \\ \\ \\   {\\rm on} \\ \\Gamma_{N}. \\\\\n",
    "\\end{align}"
   ]
  },
  {
   "cell_type": "markdown",
   "metadata": {},
   "source": [
    "## Variational forms of the Stokes equations ## \n",
    "\n",
    "The Stokes equations can easily formulated in a mixed variational\n",
    "form; that is, a form where the two variables, the velocity and the\n",
    "pressure, are approximated simultaneously. Using the abstract\n",
    "framework, we have the problem: find $(\\boldsymbol{u}, p) \\in \\mathcal{W}$ such that\n",
    "\n",
    "$$a((\\boldsymbol{u}, p), (\\boldsymbol{v}, q)) = L((\\boldsymbol{v}, q))$$\n",
    "\n",
    "for all $$(\\boldsymbol{v}, q) \\in \\mathcal{W}$$ where\n",
    "\n",
    "\\begin{align}\n",
    "   a((\\boldsymbol{u}, p), (\\boldsymbol{v}, q))\n",
    "   &= \\int_{\\Omega} \\boldsymbol{\\nabla} \\boldsymbol{u} \\cdot \\boldsymbol{\\nabla} \\boldsymbol{v}\n",
    "                    - \\boldsymbol{\\nabla} \\cdot \\boldsymbol{v} \\ p\n",
    "                    \\pm \\boldsymbol{\\nabla} \\cdot \\boldsymbol{u} \\ q \\, {\\rm d} \\boldsymbol{x}, \\\\\n",
    "   L((v, q))\n",
    "   &= \\int_{\\Omega} \\boldsymbol{f} \\cdot \\boldsymbol{v} \\, {\\rm d} x\n",
    "      + \\int_{\\Gamma_N} \\boldsymbol{g} \\cdot \\boldsymbol{v} \\, {\\rm d} \\boldsymbol{s}. \\\\\n",
    "\\end{align}\n",
    "\n",
    "The space $\\mathcal{W}$ should be a mixed (product) function space: $\\mathcal{W} = \\boldsymbol{\\mathcal{V}} \\times \\mathcal{Q}$ such that $\\boldsymbol{u} \\in \\boldsymbol{\\mathcal{V}}$ and $p \\in \\mathcal{Q}$."
   ]
  },
  {
   "cell_type": "markdown",
   "metadata": {},
   "source": [
    "Note: In the above, the sign in front of $(\\boldsymbol{\\nabla} \\cdot \\boldsymbol{u} \\ q)$ can be chosen arbitrarily.\n",
    "* If the sign is positive, the equation is nonsymmetric but positive definite. \n",
    "* If the sign is negative, the equation is symmetric but indefinite. This leads to a saddle point problem. The block corresponding to \n",
    "$\\int_{\\Omega} pq\\, {\\rm d} \\boldsymbol{x}$ is $\\boldsymbol{0}$.\n",
    "\n",
    "We will use the latter."
   ]
  },
  {
   "cell_type": "markdown",
   "metadata": {},
   "source": [
    "In addition, it is critical that the bilinear form\n",
    "$\\int_{\\Omega} \\boldsymbol{\\nabla} \\cdot \\boldsymbol{u} \\ q\\, {\\rm d} \\boldsymbol{x}$ is *coercive* in the sense that\n",
    "$$ \n",
    "\\inf_{q\\in \\mathcal{Q}}\\sup_{\\boldsymbol{v}\\in \\boldsymbol{\\mathcal{V}}}\n",
    "\\frac{\\int_{\\Omega} \\boldsymbol{\\nabla} \\cdot \\boldsymbol{v} \\ q \\, {\\rm d} \\boldsymbol{x}}{\\Vert \\boldsymbol{v} \\Vert_{L^2}\\Vert q \\Vert_{L^2}} \\geq C\n",
    "$$\n",
    "for some $C>0$ independently of $h$. \n",
    "\n",
    "In the terminology of linear algebra, the smallest singular value of the off-diagonal blocks should be the same order as the smallest eigenvalue of the principle diagonal block. This is critical for stability and convergence."
   ]
  },
  {
   "cell_type": "markdown",
   "metadata": {},
   "source": [
    "This poses additional requirements on the mixture of the trial spaces for $\\boldsymbol{u}$ and $p$.\n",
    "\n",
    "![Image of Stable elements](https://raw.githubusercontent.com/unifem/fenics-notes/master/notebooks/stable_elements.png)\n",
    "Source: [FEniCS Course lecture notes](https://fenicsproject.org/pub/course/lectures/2017-nordic-phdcourse/lecture_08_stokes.pdf)"
   ]
  },
  {
   "cell_type": "markdown",
   "metadata": {},
   "source": [
    "## Preconditioning of the linear system of equations ## \n",
    "\n",
    "For the resulting linear system of equations, the following form\n",
    "defines a suitable preconditioner:\n",
    "\n",
    "$$b((\\boldsymbol{u}, p), (\\boldsymbol{v}, q)) = \\int_{\\Omega} \\nabla \\boldsymbol{u} \\cdot \\nabla \\boldsymbol{v} + p \\, q \\, {\\rm d} x$$"
   ]
  },
  {
   "cell_type": "markdown",
   "metadata": {},
   "source": [
    "## Domain and boundary conditions ##\n",
    "\n",
    "In this demo, we shall consider the following definitions of the input\n",
    "functions, the domain, and the boundaries:\n",
    "\n",
    "* $\\Omega = [0,1]^3$  (a unit cube)\n",
    "* $\\Gamma_D = \\{(x_0, x_1, x_2) \\, | \\, x_0 = 0 \\, \\text{or} \\,\n",
    "  x_0 = 1 \\, \\text{or} \\, x_1 = 0 \\, \\text{or} \\, x_1 = 1 \\}$\n",
    "* $\\boldsymbol{u}_0 = (- \\sin(\\pi x_1), 0.0, 0.0)$ for $x_0 = 1$ and\n",
    "  $\\boldsymbol{u}_0 = (0.0, 0.0, 0.0)$ otherwise\n",
    "* $\\boldsymbol{f} = (0.0, 0.0, 0.0)$\n",
    "* $\\boldsymbol{g} = (0.0, 0.0, 0.0)$"
   ]
  },
  {
   "cell_type": "markdown",
   "metadata": {},
   "source": [
    "## Implementation ## \n",
    "\n",
    "The Stokes equations as formulated above result in a system of linear\n",
    "equations that is not positive-definite. Standard iterative linear\n",
    "solvers typically fail to converge for such systems. Some care must\n",
    "therefore be taken in preconditioning the systems of\n",
    "equations. Moreover, not all of the linear algebra backends support\n",
    "this. We therefore start by checking that either \"PETSc\" or \"Epetra\"\n",
    "(from Trilinos) is available. We also try to pick MINRES Krylov\n",
    "subspace method which is suitable for symmetric indefinite problems.\n",
    "If not available, costly QMR method is choosen."
   ]
  },
  {
   "cell_type": "code",
   "execution_count": 1,
   "metadata": {
    "collapsed": true
   },
   "outputs": [],
   "source": [
    "from fenics import *\n",
    "\n",
    "# Test for PETSc or Epetra\n",
    "if not has_linear_algebra_backend(\"PETSc\") and not has_linear_algebra_backend(\"Epetra\"):\n",
    "    info(\"FEniCS has not been configured with Trilinos or PETSc. Exiting.\")\n",
    "    exit()\n",
    "\n",
    "if not has_krylov_solver_preconditioner(\"amg\"):\n",
    "    info(\"Sorry, this demo is only available when FEniCS is compiled with AMG \"\n",
    "         \"preconditioner, Hypre or ML.\")\n",
    "    exit()\n",
    "\n",
    "if has_krylov_solver_method(\"minres\"):\n",
    "    krylov_method = \"minres\"\n",
    "elif has_krylov_solver_method(\"tfqmr\"):\n",
    "    krylov_method = \"tfqmr\"\n",
    "else:\n",
    "    info(\"Default linear algebra backend was not compiled with MINRES or TFQMR \"\n",
    "         \"Krylov subspace method. Terminating.\")\n",
    "    exit()"
   ]
  },
  {
   "cell_type": "markdown",
   "metadata": {},
   "source": [
    "Next, we define the mesh (a `UnitCubeMesh`) and a mixed finite element TH. We then build a `FunctionSpace` on this element. \n",
    "(This mixed finite element space is known as the\n",
    "Taylor-Hood elements and is a stable, standard element pair for the\n",
    "Stokes equations.)"
   ]
  },
  {
   "cell_type": "code",
   "execution_count": 2,
   "metadata": {},
   "outputs": [],
   "source": [
    "# Load mesh\n",
    "mesh = UnitCubeMesh(16, 16, 16)\n",
    "\n",
    "# Build function space\n",
    "P2 = VectorElement(\"Lagrange\", mesh.ufl_cell(), 2)\n",
    "P1 = FiniteElement(\"Lagrange\", mesh.ufl_cell(), 1)\n",
    "TH = P2 * P1\n",
    "W = FunctionSpace(mesh, TH)"
   ]
  },
  {
   "cell_type": "markdown",
   "metadata": {},
   "source": [
    "### Useful Functions ###\n",
    "\n",
    "On the mixed finite element space, we can use `sub` to access subspaces:\n",
    "``` \n",
    "W.sub(0)\n",
    "W.sub(1)\n",
    "```\n",
    "\n",
    "We can use `split` to split the variables.\n",
    "``` \n",
    "up = Function (W)\n",
    "(u, p) = split (up)\n",
    "```\n",
    "\n",
    "Next, we define the boundary conditions."
   ]
  },
  {
   "cell_type": "code",
   "execution_count": 3,
   "metadata": {},
   "outputs": [],
   "source": [
    "# Boundaries\n",
    "def right(x, on_boundary): return x[0] > (1.0 - DOLFIN_EPS)\n",
    "def left(x, on_boundary): return x[0] < DOLFIN_EPS\n",
    "def top_bottom(x, on_boundary):\n",
    "    return x[1] > 1.0 - DOLFIN_EPS or x[1] < DOLFIN_EPS\n",
    "\n",
    "# No-slip boundary condition for velocity\n",
    "noslip = Constant((0.0, 0.0, 0.0))\n",
    "bc0 = DirichletBC(W.sub(0), noslip, top_bottom)\n",
    "\n",
    "# Inflow boundary condition for velocity\n",
    "inflow = Expression((\"-sin(x[1]*pi)\", \"0.0\", \"0.0\"), degree=2)\n",
    "bc1 = DirichletBC(W.sub(0), inflow, right)\n",
    "\n",
    "# Collect boundary conditions\n",
    "bcs = [bc0, bc1]"
   ]
  },
  {
   "cell_type": "markdown",
   "metadata": {},
   "source": [
    "The bilinear and linear forms corresponding to the weak mixed\n",
    "formulation of the Stokes equations are defined as follows:"
   ]
  },
  {
   "cell_type": "code",
   "execution_count": 4,
   "metadata": {},
   "outputs": [],
   "source": [
    "# Define variational problem\n",
    "(u, p) = TrialFunctions(W)\n",
    "(v, q) = TestFunctions(W)\n",
    "f = Constant((0.0, 0.0, 0.0))\n",
    "a = inner(grad(u), grad(v))*dx - div(v)*p*dx - q*div(u)*dx\n",
    "L = inner(f, v)*dx"
   ]
  },
  {
   "cell_type": "markdown",
   "metadata": {},
   "source": [
    "We can now use the same `TrialFunctions` and\n",
    "`TestFunctions` to define the preconditioner matrix. We first define the form\n",
    "corresponding to the expression for the preconditioner (given in the\n",
    "initial description above):"
   ]
  },
  {
   "cell_type": "code",
   "execution_count": 5,
   "metadata": {
    "collapsed": true
   },
   "outputs": [],
   "source": [
    "# Form for use in constructing preconditioner matrix\n",
    "b = inner(grad(u), grad(v))*dx + p*q*dx"
   ]
  },
  {
   "cell_type": "markdown",
   "metadata": {},
   "source": [
    "Next, we want to assemble the matrix corresponding to the bilinear\n",
    "form and the vector corresponding to the linear form of the Stokes\n",
    "equations. Moreover, we want to apply the specified boundary\n",
    "conditions to the linear system. However, `assembling` the matrix and vector and applying a `DirichletBC` separately will possibly result \n",
    "in a non-symmetric system of equations. Instead, we can use the `assemble_system` function to assemble both the\n",
    "matrix `A`, the vector `bb`, and apply the boundary conditions\n",
    "`bcs` in a symmetric fashion:"
   ]
  },
  {
   "cell_type": "code",
   "execution_count": 6,
   "metadata": {},
   "outputs": [],
   "source": [
    "# Assemble system\n",
    "A, bb = assemble_system(a, L, bcs)"
   ]
  },
  {
   "cell_type": "markdown",
   "metadata": {},
   "source": [
    "We do the same for the preconditioner matrix ``P`` using the linear\n",
    "form ``L`` as a dummy form:"
   ]
  },
  {
   "cell_type": "code",
   "execution_count": 7,
   "metadata": {},
   "outputs": [],
   "source": [
    "# Assemble preconditioner system\n",
    "P, btmp = assemble_system(b, L, bcs)"
   ]
  },
  {
   "cell_type": "markdown",
   "metadata": {},
   "source": [
    "Next, we specify the iterative solver we want to use, in this case a\n",
    "`KrylovSolver`. We associate the\n",
    "left-hand side matrix ``A`` and the preconditioner matrix ``P`` with\n",
    "the solver by calling `solver.set_operators`."
   ]
  },
  {
   "cell_type": "code",
   "execution_count": 8,
   "metadata": {
    "collapsed": true
   },
   "outputs": [],
   "source": [
    "# Create Krylov solver and AMG preconditioner\n",
    "solver = KrylovSolver(krylov_method, \"amg\")\n",
    "\n",
    "# Associate operator (A) and preconditioner matrix (P)\n",
    "solver.set_operators(A, P)"
   ]
  },
  {
   "cell_type": "markdown",
   "metadata": {},
   "source": [
    "We are now almost ready to solve the linear system of equations. It\n",
    "remains to specify a `Vector` for\n",
    "storing the result. For easy manipulation later, we can define a\n",
    "`Function` and use the\n",
    "vector associated with this Function. The call to\n",
    "`solver.solve` then looks as\n",
    "follows"
   ]
  },
  {
   "cell_type": "code",
   "execution_count": 9,
   "metadata": {},
   "outputs": [
    {
     "data": {
      "text/plain": [
       "31"
      ]
     },
     "execution_count": 9,
     "metadata": {},
     "output_type": "execute_result"
    }
   ],
   "source": [
    "# Solve\n",
    "U = Function(W)\n",
    "solver.solve(U.vector(), bb)"
   ]
  },
  {
   "cell_type": "markdown",
   "metadata": {},
   "source": [
    "Finally, we can play with the result in different ways:"
   ]
  },
  {
   "cell_type": "code",
   "execution_count": 10,
   "metadata": {
    "collapsed": true
   },
   "outputs": [],
   "source": [
    "# Get sub-functions\n",
    "u, p = U.split()\n",
    "\n",
    "# Save solution in VTK format\n",
    "ufile_pvd = File(\"velocity.pvd\")\n",
    "ufile_pvd << u\n",
    "pfile_pvd = File(\"pressure.pvd\")\n",
    "pfile_pvd << p\n",
    "\n",
    "# Plot solution\n",
    "plot(u)\n",
    "plot(p)\n",
    "interactive()"
   ]
  },
  {
   "cell_type": "markdown",
   "metadata": {},
   "source": [
    "## Exercise: Spurious pressure modes ##\n",
    "\n",
    "Compute the finite element approximation for Couette flow on\n",
    "the unit square. Use the boundary data\n",
    "* $\\boldsymbol{u} = (1,0)$ on $y = 1$\n",
    "* $\\boldsymbol{u} = (0,0)$ on $y = 0$\n",
    "* $\\boldsymbol{g} = (0,0)$ on $x = 0$ or $x = 1$\n",
    "\n",
    "Use P1/P1 and P1/P0 elements. The exact solution is given by\n",
    "$u = (y, 0)$, $p = 0$. What do you observe? Why?"
   ]
  },
  {
   "cell_type": "markdown",
   "metadata": {},
   "source": [
    "## Exercise: Stokes equations with stabilized first order elements ##\n",
    "\n",
    "First-order elements can be stablized by introducing artificial viscocity. It reads as follows: find $(\\boldsymbol{u},p)\\in \\mathcal{W}$ such that\n",
    "$$a_1((\\boldsymbol{u},p),(\\boldsymbol{v},q))=L_1((\\boldsymbol{v},q))$$\n",
    "for all $(\\boldsymbol{u},p)\\in \\mathcal{W}$, with\n",
    "\n",
    "\\begin{align}\n",
    "a_1((\\boldsymbol{u},p),(\\boldsymbol{u},q)) = & a((\\boldsymbol{u},p),(\\boldsymbol{u},q)) + \\int_\\Omega \\delta \\boldsymbol{\\nabla}p \\cdot \\boldsymbol{\\nabla}q \\rm{d}\\boldsymbol{x}\\\\\n",
    "L_1((v,q)) = & L((v,q)) + \\int_\\Gamma \\delta f\\cdot \\boldsymbol{\\nabla}q d\\boldsymbol{s},\n",
    "\\end{align}\n",
    "\n",
    "where $\\delta = \\beta h^2$ and $\\beta$ is some constant (e.g., $\\beta=0.2$) and $h$ is the mesh cell size.\n",
    "\n",
    "Useful function:\n",
    "```\n",
    "h = CellSize(mesh)\n",
    "```"
   ]
  },
  {
   "cell_type": "markdown",
   "metadata": {},
   "source": [
    "**Acknowledgment**: This notebook was adapted from the [FEniCS/DOLFIN demo on Stokes equations](https://fenicsproject.org/olddocs/dolfin/1.5.0/python/demo/documented/stokes-iterative/python/documentation.html) and the [FEniCS Course for Stokes Equations](https://fenicsproject.org/pub/course/lectures/2017-nordic-phdcourse/lecture_08_stokes.pdf)."
   ]
  }
 ],
 "metadata": {
  "kernelspec": {
   "display_name": "Python 3",
   "language": "python",
   "name": "python3"
  },
  "language_info": {
   "codemirror_mode": {
    "name": "ipython",
    "version": 3
   },
   "file_extension": ".py",
   "mimetype": "text/x-python",
   "name": "python",
   "nbconvert_exporter": "python",
   "pygments_lexer": "ipython3",
   "version": "3.5.2"
  },
  "latex_envs": {
   "LaTeX_envs_menu_present": true,
   "autocomplete": true,
   "bibliofile": "biblio.bib",
   "cite_by": "apalike",
   "current_citInitial": 1,
   "eqLabelWithNumbers": true,
   "eqNumInitial": 1,
   "hotkeys": {
    "equation": "Ctrl-E",
    "itemize": "Ctrl-I"
   },
   "labels_anchors": false,
   "latex_user_defs": false,
   "report_style_numbering": false,
   "user_envs_cfg": false
  }
 },
 "nbformat": 4,
 "nbformat_minor": 2
}
