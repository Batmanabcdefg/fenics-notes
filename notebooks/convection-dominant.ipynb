{
 "cells": [
  {
   "cell_type": "markdown",
   "metadata": {},
   "source": [
    "# The Transport Equation #\n",
    "\n",
    "In this example, we solve the transport equation \n",
    "\n",
    "\\begin{align*}\n",
    "-\\varepsilon\\Delta u+\\boldsymbol{b}\\cdot\\boldsymbol{\\nabla}u & =f\\qquad\\text{ in }\\Omega\\\\\n",
    "u & =u_{0}\\qquad\\text{on }\\partial\\Omega,\n",
    "\\end{align*}\n",
    "with $\\varepsilon=0.1$, $\\boldsymbol{b}=[1,1]^{T}$, and $f=1$ over square\n",
    "$\\Omega=[-1,1]^{2}$ with homogeneous Dirichlet BC."
   ]
  },
  {
   "cell_type": "markdown",
   "metadata": {},
   "source": [
    "### Standard Finite Elements ###\n",
    "\n",
    "With the standard finite elements, the variational form is:\n",
    "\\[\n",
    "\\int_{\\Omega}\\varepsilon\\boldsymbol{\\nabla}u\\cdot\\boldsymbol{\\nabla}v+\\boldsymbol{b}\\cdot\\boldsymbol{\\nabla}u\\,v\\,\\text{d}\\boldsymbol{x}=\\int_{\\Omega}f\\,v\\,\\text{d}\\boldsymbol{x}\n",
    "\\]"
   ]
  },
  {
   "cell_type": "markdown",
   "metadata": {},
   "source": [
    "### FEniCS implementation ##"
   ]
  },
  {
   "cell_type": "markdown",
   "metadata": {},
   "source": [
    "Load FEniCS modules."
   ]
  },
  {
   "cell_type": "code",
   "execution_count": 1,
   "metadata": {},
   "outputs": [],
   "source": [
    "from fenics import *\n",
    "from mshr import *\n",
    "\n",
    "import numpy as np\n",
    "import matplotlib.pyplot as plt\n",
    "\n",
    "%matplotlib inline"
   ]
  },
  {
   "cell_type": "markdown",
   "metadata": {},
   "source": [
    "Define functions for solving the transport problem in 2-D."
   ]
  },
  {
   "cell_type": "code",
   "execution_count": 2,
   "metadata": {},
   "outputs": [],
   "source": [
    "def u0_boundary(x, on_boundary):\n",
    "    return on_boundary\n",
    "\n",
    "def solve_transport_2dfem(n, epsilon):\n",
    "    domain = Rectangle(Point(-1, -1), Point(1,1))\n",
    "    mesh = generate_mesh(domain,n)\n",
    "\n",
    "    V = FunctionSpace(mesh, 'P', 1)\n",
    "    u = TrialFunction(V)\n",
    "    v = TestFunction(V)\n",
    "\n",
    "    u0 = Constant(0)\n",
    "    bc = DirichletBC(V, u0, u0_boundary)\n",
    "    \n",
    "    f = Constant(1.)\n",
    "    b = Constant((1., 1.))\n",
    "\n",
    "    a = epsilon * dot(grad(u), grad(v)) * dx + dot(b, grad(u)) * v * dx\n",
    "    L = f * v * dx\n",
    "\n",
    "    u = Function(V)\n",
    "    solve(a == L, u, bc)\n",
    "    \n",
    "    return u"
   ]
  },
  {
   "cell_type": "markdown",
   "metadata": {},
   "source": [
    "Solve the problem and plot the solution in 2-D and also the curve along diagonal."
   ]
  },
  {
   "cell_type": "code",
   "execution_count": 3,
   "metadata": {},
   "outputs": [],
   "source": [
    "def extract_diagonal(u):\n",
    "    # Curve plot along diagonal\n",
    "    tol = 0.01  # avoid hitting points outside the domain\n",
    "    y = np.linspace(-1 + tol, 1 - tol, 101)\n",
    "    points = [(y_, y_) for y_ in y]  # 2D points\n",
    "    u_line = np.array([u(point) for point in points])\n",
    "    \n",
    "    return y, u_line"
   ]
  },
  {
   "cell_type": "code",
   "execution_count": 4,
   "metadata": {},
   "outputs": [
    {
     "data": {
      "text/plain": [
       "[<matplotlib.lines.Line2D at 0x7f3631b85978>]"
      ]
     },
     "execution_count": 4,
     "metadata": {},
     "output_type": "execute_result"
    },
    {
     "data": {
      "image/png": "[encoded data removed]",
      "text/plain": [
       "<matplotlib.figure.Figure at 0x7f363509a1d0>"
      ]
     },
     "metadata": {},
     "output_type": "display_data"
    },
    {
     "data": {
      "image/png": "[encoded data removed]",
      "text/plain": [
       "<matplotlib.figure.Figure at 0x7f368e3e8f28>"
      ]
     },
     "metadata": {},
     "output_type": "display_data"
    }
   ],
   "source": [
    "u = solve_transport_2dfem(n=20, epsilon=0.01)\n",
    "plot(u)\n",
    "\n",
    "\n",
    "y, u_line = extract_diagonal(u)\n",
    "plt.figure()\n",
    "plt.plot(y, u_line, 'k', linewidth=2)"
   ]
  },
  {
   "cell_type": "markdown",
   "metadata": {},
   "source": [
    "The results are visably oscillatory when $h$ is greater than $\\varepsilon$.\n",
    "\n",
    "This can also be seen in 1-D."
   ]
  },
  {
   "cell_type": "code",
   "execution_count": 5,
   "metadata": {},
   "outputs": [],
   "source": [
    "def solve_transport_1dfem(n, epsilon):\n",
    "    # Construct the mesh\n",
    "    mesh = IntervalMesh(n, -1, 1)\n",
    "    \n",
    "    f = Constant(1.)\n",
    "    b = Constant(1.)\n",
    "\n",
    "    # Define trial and test functions\n",
    "    V = FunctionSpace(mesh, 'P', 1)\n",
    "    u = TrialFunction(V)\n",
    "    v = TestFunction(V)\n",
    "\n",
    "    # Define vairational form\n",
    "    a = epsilon * dot(grad(u), grad(v)) * dx + b * grad(u)[0] * v * dx\n",
    "    L = f * v * dx\n",
    "\n",
    "    # Define boundary condition\n",
    "    u0 = Constant(0)\n",
    "    bc = DirichletBC(V, u0, u0_boundary)\n",
    "\n",
    "    # Solve equation\n",
    "    u = Function(V)\n",
    "    solve(a == L, u, bc)\n",
    "    return u"
   ]
  },
  {
   "cell_type": "code",
   "execution_count": 6,
   "metadata": {},
   "outputs": [
    {
     "data": {
      "text/plain": [
       "[<matplotlib.lines.Line2D at 0x7f362e2efac8>]"
      ]
     },
     "execution_count": 6,
     "metadata": {},
     "output_type": "execute_result"
    },
    {
     "data": {
      "image/png": "[encoded data removed]",
      "text/plain": [
       "<matplotlib.figure.Figure at 0x7f3631b46dd8>"
      ]
     },
     "metadata": {},
     "output_type": "display_data"
    }
   ],
   "source": [
    "u = solve_transport_1dfem(20, 0.1)\n",
    "uval = u.compute_vertex_values()\n",
    "\n",
    "plot(u, range_min=min(uval), range_max=max(uval))"
   ]
  }
 ],
 "metadata": {
  "kernelspec": {
   "display_name": "Python 3",
   "language": "python",
   "name": "python3"
  },
  "language_info": {
   "codemirror_mode": {
    "name": "ipython",
    "version": 3
   },
   "file_extension": ".py",
   "mimetype": "text/x-python",
   "name": "python",
   "nbconvert_exporter": "python",
   "pygments_lexer": "ipython3",
   "version": "3.6.3"
  },
  "latex_envs": {
   "LaTeX_envs_menu_present": true,
   "autocomplete": true,
   "bibliofile": "biblio.bib",
   "cite_by": "apalike",
   "current_citInitial": 1,
   "eqLabelWithNumbers": true,
   "eqNumInitial": 1,
   "hotkeys": {
    "equation": "Ctrl-E",
    "itemize": "Ctrl-I"
   },
   "labels_anchors": false,
   "latex_user_defs": false,
   "report_style_numbering": false,
   "user_envs_cfg": false
  }
 },
 "nbformat": 4,
 "nbformat_minor": 2
}
