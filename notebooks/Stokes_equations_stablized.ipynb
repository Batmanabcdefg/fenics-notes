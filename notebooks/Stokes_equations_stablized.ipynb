{
 "cells": [
  {
   "cell_type": "markdown",
   "metadata": {},
   "source": [
    "## Stokes equations with stabilized first order elements ##\n",
    "\n",
    "First, import the `fenics` module:"
   ]
  },
  {
   "cell_type": "code",
   "execution_count": 1,
   "metadata": {
    "collapsed": true
   },
   "outputs": [],
   "source": [
    "from dolfin import *"
   ]
  },
  {
   "cell_type": "markdown",
   "metadata": {},
   "source": [
    "In this example, different boundary conditions are prescribed on\n",
    "different parts of the boundaries. This information must be made\n",
    "available to the solver. One way of doing this, is to tag the\n",
    "different sub-regions with different (integer) labels. DOLFIN provides\n",
    "a class `MeshFunction` which is useful for these types of operations: instances of this class\n",
    "represent functions over mesh entities (such as over cells or over\n",
    "facets). Mesh and mesh functions can be read from file in the\n",
    "following way:\n",
    "\n",
    "You can download the data files at\n",
    "[dolfin_fine.xml.gz](https://bitbucket.org/fenics-project/dolfin/raw/master/demo/documented/stokes-taylor-hood/dolfin_fine.xml.gz)\n",
    "and [dolfin_fine_subdomains.xml.gz](https://bitbucket.org/fenics-project/dolfin/raw/master/demo/documented/stokes-taylor-hood/dolfin_fine_subdomains.xml.gz)"
   ]
  },
  {
   "cell_type": "code",
   "execution_count": 2,
   "metadata": {
    "collapsed": true
   },
   "outputs": [],
   "source": [
    "# Load mesh and subdomains\n",
    "mesh = Mesh(\"dolfin_fine.xml.gz\")\n",
    "sub_domains = MeshFunction(\"size_t\", mesh, \"dolfin_fine_subdomains.xml.gz\")"
   ]
  },
  {
   "cell_type": "markdown",
   "metadata": {},
   "source": [
    "Next, we define a `MixedFunctionSpace` composed of a\n",
    "`VectorFunctionSpace` and a `FunctionSpace`, both of\n",
    "continuous piecewise linears."
   ]
  },
  {
   "cell_type": "code",
   "execution_count": 3,
   "metadata": {},
   "outputs": [],
   "source": [
    "# Define function spaces\n",
    "P2 = VectorElement(\"Lagrange\", mesh.ufl_cell(), 1)\n",
    "P1 = FiniteElement(\"Lagrange\", mesh.ufl_cell(), 1)\n",
    "TH = P2 * P1\n",
    "W = FunctionSpace(mesh, TH)"
   ]
  },
  {
   "cell_type": "markdown",
   "metadata": {},
   "source": [
    "Now that we have our mixed function space and marked subdomains\n",
    "defining the boundaries, we create functions for the boundary\n",
    "conditions and define boundary conditions:"
   ]
  },
  {
   "cell_type": "code",
   "execution_count": 4,
   "metadata": {},
   "outputs": [],
   "source": [
    "# No-slip boundary condition for velocity\n",
    "# x1 = 0, x1 = 1 and around the dolphin\n",
    "noslip = Constant((0, 0))\n",
    "inflow = Expression((\"-sin(x[1]*pi)\", \"0.0\"), degree=2)\n",
    "zero   = Constant(0)\n",
    "\n",
    "# No-slip boundary condition for velocity\n",
    "bc0 = DirichletBC(W.sub(0), noslip, sub_domains, 0)\n",
    "\n",
    "# Inflow boundary condition for velocity\n",
    "bc1 = DirichletBC(W.sub(0), inflow, sub_domains, 1)\n",
    "\n",
    "# Boundary condition for pressure at outflow\n",
    "bc2 = DirichletBC(W.sub(1), zero, sub_domains, 2)\n",
    "\n",
    "# Collect boundary conditions\n",
    "bcs = [bc0, bc1, bc2]"
   ]
  },
  {
   "cell_type": "markdown",
   "metadata": {},
   "source": [
    "Here, we have given four arguments to `DirichletBC`. The first specifies the `FunctionSpace`. Since\n",
    "we have a `MixedFunctionSpace`, we write\n",
    "system.sub(0) for the `VectorFunctionSpace`, and\n",
    "system.sub(1) for the `FunctionSpace`. The second argument specifies\n",
    "the value on the Dirichlet boundary. The two last arguments specify the\n",
    "marking of the subdomains; sub_domains contains the subdomain markers\n",
    "and the number given as the last argument is the subdomain index.\n",
    "\n",
    "The bilinear and linear forms corresponding to the stabilized weak\n",
    "mixed formulation of the Stokes equations are defined as follows:"
   ]
  },
  {
   "cell_type": "code",
   "execution_count": 5,
   "metadata": {},
   "outputs": [],
   "source": [
    "# Define variational problem\n",
    "(v, q) = TestFunctions(W)\n",
    "(u, p) = TrialFunctions(W)\n",
    "f = Constant((0, 0))\n",
    "h = CellSize(mesh)\n",
    "beta  = 0.2\n",
    "delta = beta*h*h\n",
    "a = (inner(grad(v), grad(u)) - div(v)*p + q*div(u) + \\\n",
    "    delta*inner(grad(q), grad(p)))*dx\n",
    "L = inner(v + delta*grad(q), f)*dx"
   ]
  },
  {
   "cell_type": "markdown",
   "metadata": {},
   "source": [
    "To compute the solution we use the bilinear and linear forms, and the\n",
    "boundary condition, but we also need to create a `Function` \n",
    "to store the solution(s). The (full)\n",
    "solution will be stored in ``w``, which we initialize using the\n",
    "MixedFunctionSpace system. The actual computation is performed by\n",
    "calling solve with the arguments ``a``, ``L`` and ``bcs``. The\n",
    "separate components ``u`` and ``p`` of the solution can be extracted\n",
    "by calling the `split` function."
   ]
  },
  {
   "cell_type": "code",
   "execution_count": 6,
   "metadata": {},
   "outputs": [],
   "source": [
    "# Compute solution\n",
    "w = Function(W)\n",
    "solve(a == L, w, bcs)\n",
    "u, p = w.split()"
   ]
  },
  {
   "cell_type": "markdown",
   "metadata": {},
   "source": [
    "Finally, we can store to file and plot the solutions."
   ]
  },
  {
   "cell_type": "code",
   "execution_count": 7,
   "metadata": {},
   "outputs": [
    {
     "data": {
      "text/plain": [
       "<matplotlib.tri.tricontour.TriContourSet at 0x7f4f8d93ce48>"
      ]
     },
     "execution_count": 7,
     "metadata": {},
     "output_type": "execute_result"
    },
    {
     "data": {
      "image/png": "[encoded data removed]",
      "text/plain": [
       "<matplotlib.figure.Figure at 0x7f4f90c4e588>"
      ]
     },
     "metadata": {},
     "output_type": "display_data"
    }
   ],
   "source": [
    "# Save solution in VTK format\n",
    "ufile_pvd = File(\"velocity.pvd\")\n",
    "ufile_pvd << u\n",
    "pfile_pvd = File(\"pressure.pvd\")\n",
    "pfile_pvd << p\n",
    "\n",
    "%matplotlib inline\n",
    "# Plot solution\n",
    "plot(u)\n",
    "plot(p)"
   ]
  },
  {
   "cell_type": "markdown",
   "metadata": {},
   "source": [
    "**Acknowledgment**: This notebook was adapted from the [FEniCS/DOLFIN demo on Stokes equations with stabilized first order elements](https://fenicsproject.org/olddocs/dolfin/1.5.0/python/demo/documented/stokes-stabilized/python/documentation.html)."
   ]
  }
 ],
 "metadata": {
  "kernelspec": {
   "display_name": "Python 3",
   "language": "python",
   "name": "python3"
  },
  "language_info": {
   "codemirror_mode": {
    "name": "ipython",
    "version": 3
   },
   "file_extension": ".py",
   "mimetype": "text/x-python",
   "name": "python",
   "nbconvert_exporter": "python",
   "pygments_lexer": "ipython3",
   "version": "3.5.2"
  },
  "latex_envs": {
   "LaTeX_envs_menu_present": true,
   "autocomplete": true,
   "bibliofile": "biblio.bib",
   "cite_by": "apalike",
   "current_citInitial": 1,
   "eqLabelWithNumbers": true,
   "eqNumInitial": 1,
   "hotkeys": {
    "equation": "Ctrl-E",
    "itemize": "Ctrl-I"
   },
   "labels_anchors": false,
   "latex_user_defs": false,
   "report_style_numbering": false,
   "user_envs_cfg": false
  }
 },
 "nbformat": 4,
 "nbformat_minor": 2
}
