{
 "cells": [
  {
   "cell_type": "markdown",
   "metadata": {},
   "source": [
    "# The equations of linear elasticity\n",
    "\n",
    "Linear elasticity is the study of how solid objects deform and become \n",
    "internally stressed due to prescribed loading conditions. It is an important problem\n",
    "in modern engineering. Its corresponding PDE is a generalization of the\n",
    "Poisson equation, and it is among one of the most popular PDEs in \n",
    "engineering. We now study its variational formulation and how to solve\n",
    "this problem using FEniCS in 2D and 3D."
   ]
  },
  {
   "cell_type": "markdown",
   "metadata": {},
   "source": [
    "## PDE problem\n",
    "\n",
    "The equation governing elastic deformations of a body $\\Omega$ can be written as\n",
    "\n",
    "\\begin{equation}\n",
    "\\label{ftut-elast-varform-equilibrium}\n",
    "-\\boldsymbol{\\nabla}\\cdot\\boldsymbol{\\sigma} = \\boldsymbol{f}\\hbox{ in }\\Omega,\n",
    "\\end{equation}\n",
    "\n",
    "where $\\boldsymbol{\\sigma}$ is the *stress tensor*, and $\\boldsymbol{f}$ is the *body force per unit\n",
    "volume*. For isotropic materials, the stress tensor is further related to the deformation by \n",
    "the following two equations:\n",
    "\\begin{align}\n",
    "\\boldsymbol{\\sigma} &= \\lambda\\,\\hbox{tr}\\,(\\boldsymbol{\\varepsilon}) \\boldsymbol{I} + 2\\mu\\boldsymbol{\\varepsilon},\n",
    "\\label{ftut-elast-varform-stresstrain}\\\\\n",
    "\\boldsymbol{\\varepsilon} &= \\frac{1}{2}\\left(\\boldsymbol{\\nabla} \\boldsymbol{u} + (\\boldsymbol{\\nabla} \\boldsymbol{u})^{\\top}\\right),\n",
    "\\label{ftut-elast-varform-strainu}\n",
    "\\end{align}\n",
    "where $\\boldsymbol{\\varepsilon}$ is the *symmetric strain-rate tensor* (symmetric gradient), \n",
    "and $\\boldsymbol{u}$ is the *displacement vector field*, $\\boldsymbol{I}$ denotes the *identity tensor*, \n",
    "$\\mathrm{tr}$ denotes the *trace operator* on a tensor, and $\\lambda$ and $\\mu$ \n",
    "are material properties known as *Lamé's elasticity parameters*.\n",
    "\n",
    "We can combine (\\ref{ftut-elast-varform-stresstrain}) and\n",
    "(\\ref{ftut-elast-varform-strainu}) to obtain\n",
    "\\begin{equation}\n",
    "\\label{ftut-elast-varform-stressu}\n",
    "\\boldsymbol{\\boldsymbol{\\sigma}} = \\lambda(\\boldsymbol{\\nabla}\\cdot \\boldsymbol{u})\\boldsymbol{I} + \\mu(\\boldsymbol{\\nabla} \\boldsymbol{u} + (\\boldsymbol{\\nabla} \\boldsymbol{u})^{\\top})\n",
    "\\end{equation}\n",
    "\n",
    "Note that\n",
    "(\\ref{ftut-elast-varform-equilibrium})--(\\ref{ftut-elast-varform-strainu})\n",
    "can easily be transformed to a single vector PDE for $\\boldsymbol{u}$, which is the\n",
    "governing PDE for the unknown $\\boldsymbol{u}$ (Navier's equation).  In the\n",
    "derivation of the variational formulation, however, it is convenient\n",
    "to keep the equations split as above."
   ]
  },
  {
   "cell_type": "markdown",
   "metadata": {},
   "source": [
    "## Variational formulation\n",
    "\n",
    "The variational formulation of\n",
    "(\\ref{ftut-elast-varform-equilibrium})--(\\ref{ftut-elast-varform-strainu})\n",
    "consists of forming the inner product of\n",
    "(\\ref{ftut-elast-varform-equilibrium}) and a *vector* test function\n",
    "$\\boldsymbol{v}\\in \\hat{V}$, where $\\hat{V}$ is a vector-valued test function space, and\n",
    "integrating over the domain $\\Omega$:\n",
    "\n",
    "\\begin{equation} -\\int_\\Omega (\\boldsymbol{\\nabla}\\cdot\\boldsymbol{\\sigma}) \\cdot \\boldsymbol{v}\\ \\mathrm{d}\\boldsymbol{x} =\n",
    "\\int_\\Omega \\boldsymbol{f}\\cdot \\boldsymbol{v}\\ \\mathrm{d}\\boldsymbol{x},\\label{eq:elast:varform:variational}\n",
    "\\end{equation}\n",
    "where $\\mathrm{d}\\boldsymbol{x}$ denotes the volume measure.\n",
    "\n",
    "Since $\\boldsymbol{\\nabla}\\cdot\\boldsymbol{\\sigma}$ contains second-order derivatives of the primary\n",
    "unknown $\\boldsymbol{u}$, we integrate this term by parts:\n",
    "\n",
    "\\begin{equation}\n",
    "-\\int_\\Omega (\\boldsymbol{\\nabla}\\cdot\\boldsymbol{\\sigma}) \\cdot \\boldsymbol{v} \\ \\mathrm{d}\\boldsymbol{x}\n",
    "= \\int_\\Omega \\boldsymbol{\\sigma} : \\boldsymbol{\\nabla} \\boldsymbol{v} \\ \\mathrm{d}\\boldsymbol{x} - \\int_{\\partial\\Omega}\n",
    "(\\boldsymbol{\\sigma}\\cdot \\boldsymbol{n})\\cdot \\boldsymbol{v} \\ \\mathrm{d}\\boldsymbol{s},\n",
    "\\label{eq:elast:varform:integbypart}\n",
    "\\end{equation}\n",
    "\n",
    "where the colon operator is the inner product between tensors (summed\n",
    "pairwise product of all elements), $\\boldsymbol{n}$ is the outward unit normal\n",
    "at the boundary, and $\\mathrm{d}\\boldsymbol{s}$ is a measure in surface area.\n",
    "\n",
    "The quantity $\\boldsymbol{\\sigma}\\cdot \\boldsymbol{n}$ is known as the\n",
    "*traction* or stress vector at the boundary, and is often prescribed\n",
    "as a boundary condition on a part $\\partial_T\\Omega$ of the boundary \n",
    "as $\\boldsymbol{\\sigma}\\cdot \\boldsymbol{n} = \\boldsymbol{T}$, whereas the \n",
    "remaining part of the boundary would have the value of the displacements prescribed.\n",
    "\n",
    "Substituting (\\ref{eq:elast:varform:integbypart}) into (\\ref{eq:elast:varform:variational}), \n",
    "we thus obtain\n",
    "\\begin{equation}\n",
    "\\int_\\Omega \\boldsymbol{\\sigma} : \\boldsymbol{\\nabla} \\boldsymbol{v}\\ \\mathrm{d}\\boldsymbol{x} =\n",
    "\\int_\\Omega \\boldsymbol{f}\\cdot \\boldsymbol{v}\\ \\mathrm{d}\\boldsymbol{x}\n",
    "+ \\int_{\\partial\\Omega} \\boldsymbol{T}\\cdot \\boldsymbol{v}\\ \\mathrm{d}\\boldsymbol{s}.\n",
    "\\label{eq:elast:varform:varform_original}\n",
    "\\end{equation}\n",
    "\n",
    "Inserting the expression (\\ref{ftut-elast-varform-stressu}) for\n",
    "$\\boldsymbol{\\sigma}$ gives the variational form with $\\boldsymbol{u}$ as unknown. "
   ]
  },
  {
   "cell_type": "markdown",
   "metadata": {},
   "source": [
    "### Symmetrizing $\\boldsymbol{\\nabla} \\boldsymbol{v}$\n",
    "\n",
    "One can show that the inner product of a symmetric tensor $\\boldsymbol{A}$ and an\n",
    "anti-symmetric tensor $\\boldsymbol{B}$ vanishes. Since $\\boldsymbol{\\sigma}$ is a\n",
    "symmetric tensor, if we express $\\boldsymbol{\\nabla} \\boldsymbol{v}$ as a sum\n",
    "of its symmetric and anti-symmetric parts, only the symmetric part will\n",
    "survive in the product $\\boldsymbol{\\sigma} :\\boldsymbol{\\nabla} \\boldsymbol{v}$. Thus replacing $\\boldsymbol{\\nabla} \\boldsymbol{u}$ by the symmetric gradient gives rise to the slightly different variational form\n",
    "\n",
    "\\begin{equation}\n",
    "\\int_\\Omega \\boldsymbol{\\sigma} : \\boldsymbol{\\epsilon}(\\boldsymbol{v})\\ \\mathrm{d}\\boldsymbol{x} =\n",
    "\\int_\\Omega \\boldsymbol{f}\\cdot \\boldsymbol{v}\\ \\mathrm{d}\\boldsymbol{x}\n",
    "+ \\int_{\\partial\\Omega} \\boldsymbol{T}\\cdot \\boldsymbol{v}\\ \\mathrm{d}\\boldsymbol{s}\n",
    "\\label{ftut-elast-varform-sigma_inner_gradv}\n",
    "\\end{equation}\n",
    "\n",
    "where $\\boldsymbol{\\epsilon}(\\boldsymbol{v})$ is the symmetric part of $\\boldsymbol{\\nabla} \\boldsymbol{v}$:\n",
    "\\begin{equation}\n",
    "\\boldsymbol{\\epsilon}(\\boldsymbol{v}) = \\frac{1}{2}\\left(\\boldsymbol{\\nabla} \\boldsymbol{v} + (\\boldsymbol{\\nabla} \\boldsymbol{v})^{\\top}\\right).\n",
    "\\label{ftut-elast-varform-sigma_inner_eps}\n",
    "\\end{equation}\n",
    "\n",
    "The formulation (\\ref{ftut-elast-varform-sigma_inner_gradv}) is what naturally\n",
    "arises from the minimization of elastic potential energy, and is a more\n",
    "popular formulation than (\\ref{eq:elast:varform:varform_original}).\n",
    "\n",
    "Here, $\\boldsymbol{\\epsilon}$ is a useful operator. The symmetric strain-rate tensor $\\boldsymbol{\\varepsilon}$ in (\\ref{ftut-elast-varform-strainu}) is equal to $\\boldsymbol{\\epsilon}(\\boldsymbol{u})$. "
   ]
  },
  {
   "cell_type": "markdown",
   "metadata": {},
   "source": [
    "### Enforcing boundary conditions\n",
    "\n",
    "Now let us consider how to enforce boundary conditions. \n",
    "For Dirichlet boundaries, we will enforce boundary-conditions strongly.\n",
    "For these points, no test functions are associated with the Dirichlet nodes.\n",
    "\n",
    "For traction boundary conditions, we will enforce the boundary condition\n",
    "weakly using the variational form (\\ref{ftut-elast-varform-sigma_inner_gradv}).\n",
    "Similar to the Poisson equation, we require their corresponding test\n",
    "functions $\\boldsymbol{v}$ vanish along $\\partial \\Omega$ for interior points.\n",
    "Then, the boundary integral above has no effects for points on\n",
    "$\\partial\\Omega\\setminus\\partial\\Omega_T$.\n",
    "\n",
    "Other important boundary conditions include the *sliding boundary\n",
    "conditions*,\n",
    "$$\\boldsymbol{u}(\\boldsymbol{x})\\cdot\\boldsymbol{n}(\\boldsymbol{x})=0,\\quad \\mbox{ for }\\boldsymbol{x}\\in\\partial_S\\Omega,$$\n",
    "and *frictions boundary conditions*, which specify the tangential components of \n",
    "surface forces analogous to the source term $\\boldsymbol{f}$ but are applied on \n",
    "surfaces only. These boundary conditions require additional care, which we will \n",
    "address later."
   ]
  },
  {
   "cell_type": "markdown",
   "metadata": {},
   "source": [
    "### Summary of variational form\n",
    "In summary, the variational problem is to find $\\boldsymbol{u}$ in a vector function space $\\hat{V}$ such that\n",
    "\\begin{equation}\n",
    "a(\\boldsymbol{u},\\boldsymbol{v}) = L(\\boldsymbol{v})\\quad\\forall \\boldsymbol{v}\\in\\hat{V},\n",
    "\\end{equation}\n",
    "where \n",
    "\\begin{align}\n",
    "a(\\boldsymbol{u},\\boldsymbol{v}) &= \\int_\\Omega\\sigma(\\boldsymbol{u}) :\\varepsilon(\\boldsymbol{v})\\ \\mathrm{d}\\boldsymbol{x},\\\\\n",
    "L(\\boldsymbol{v}) &= \\int_\\Omega \\boldsymbol{f}\\cdot \\boldsymbol{v}\\ \\mathrm{d}\\boldsymbol{x} + \\int_{\\partial\\Omega_T} \\boldsymbol{T}\\cdot \\boldsymbol{v}\\ \\mathrm{d}\\boldsymbol{s},\n",
    "\\end{align}\n",
    "and \n",
    "\\begin{equation}\n",
    "\\boldsymbol{\\sigma}(\\boldsymbol{u}) = \\lambda(\\boldsymbol{\\nabla}\\cdot \\boldsymbol{u})\\boldsymbol{I} + \\mu(\\boldsymbol{\\nabla} \\boldsymbol{u} + (\\boldsymbol{\\nabla} \\boldsymbol{u})^{\\top}).\\\\\n",
    "\\end{equation}"
   ]
  },
  {
   "cell_type": "markdown",
   "metadata": {},
   "source": [
    "## FEniCS implementation\n",
    "\n",
    "To demonstrate the implementation, we will model a clamped beam deformed under its\n",
    "own weight in 3D. This can be modeled by setting the right-hand side\n",
    "body force per unit volume to $\\boldsymbol{f}=(0,0,-\\rho g)$ with $\\rho$ the\n",
    "density of the beam and $g$ the acceleration of gravity. The beam is\n",
    "box-shaped with length $L$ and has a square cross section of width $W$. We\n",
    "set $\\boldsymbol{u}=(0,0,0)$ at the clamped end, $x=0$. The rest of the boundary is\n",
    "traction free; that is, we set $\\boldsymbol{T} = 0$. Therefore,\n",
    "$$L(\\boldsymbol{v}) = \\int_\\Omega \\boldsymbol{f}\\cdot \\boldsymbol{v} \\mathrm{d}\\boldsymbol{x}$$\n",
    "for this problem.\n",
    "\n",
    "<img src=\"https://fenicsproject.org/pub/tutorial/html/fig/elasticity.png\" width=\"400\">\n",
    "\n",
    "### Import packages\n",
    "\n",
    "We start by importing fenics and enforcing matplotlib. In addition, we import `mshr` for mesh generation."
   ]
  },
  {
   "cell_type": "code",
   "execution_count": 1,
   "metadata": {
    "collapsed": true
   },
   "outputs": [],
   "source": [
    "from fenics import *\n",
    "\n",
    "%matplotlib inline"
   ]
  },
  {
   "cell_type": "markdown",
   "metadata": {},
   "source": [
    "### Generate the mesh and function spaces\n",
    "\n",
    "Our action startes by generating meshes and defining function spaces."
   ]
  },
  {
   "cell_type": "code",
   "execution_count": 2,
   "metadata": {},
   "outputs": [],
   "source": [
    "# Create mesh and define function space\n",
    "length = 1; width = 0.2\n",
    "\n",
    "mesh = BoxMesh(Point(0, 0, 0), Point(length, width, width), 10, 3, 3)\n",
    "V = VectorFunctionSpace(mesh, 'P', 1)\n",
    "\n",
    "vtkfile = File('elasticity/mesh.pvd')\n",
    "vtkfile << mesh"
   ]
  },
  {
   "cell_type": "markdown",
   "metadata": {},
   "source": [
    "### Define boundary conditions\n",
    "\n",
    "We only specify the Dirichlet boundary condition. For the boundary condition \n",
    "$u=(0, 0, 0)$, we must set a vector value to zero, not just a scalar. \n",
    "We specify the vector constant as `Constant((0, 0, 0))`."
   ]
  },
  {
   "cell_type": "code",
   "execution_count": 3,
   "metadata": {
    "collapsed": true
   },
   "outputs": [],
   "source": [
    "# Define boundary condition\n",
    "tol = 1E-14\n",
    "\n",
    "def clamped_boundary(x, on_boundary):\n",
    "    return on_boundary and x[0] < tol\n",
    "\n",
    "bc = DirichletBC(V, Constant((0, 0, 0)), clamped_boundary)"
   ]
  },
  {
   "cell_type": "markdown",
   "metadata": {},
   "source": [
    "### Define the variational problem\n",
    "\n",
    "The primary unknown is now a vector field $\\boldsymbol{u}$ and not a scalar field,\n",
    "so we need to work with a vector function space. We will use \n",
    "piecewise-linear basis functions for all the components.\n"
   ]
  },
  {
   "cell_type": "code",
   "execution_count": 4,
   "metadata": {
    "collapsed": true
   },
   "outputs": [],
   "source": [
    "u = TrialFunction(V)\n",
    "v = TestFunction(V)"
   ]
  },
  {
   "cell_type": "markdown",
   "metadata": {},
   "source": [
    "With `u = TrialFunction(V)` we get `u` as a vector-valued finite element\n",
    "function with three components for this 3D problem.\n",
    "\n",
    "Next, we define the stress tensor and $a$. The gradient and divergence operators \n",
    "now have a prefix `nabla_`.\n",
    "This is not strictly necessary in the present problem, but is\n",
    "recommended in general for vector PDEs arising from continuum mechanics,\n",
    "if you interpret $\\boldsymbol{\\nabla}$ as a vector in the PDE notation. See\n",
    "the notes on `grad(u)` vs. `nabla_grad(u)` below."
   ]
  },
  {
   "cell_type": "code",
   "execution_count": 5,
   "metadata": {
    "collapsed": true
   },
   "outputs": [],
   "source": [
    "# Define strain and stress\n",
    "def epsilon(u):\n",
    "    return 0.5*(nabla_grad(u) + nabla_grad(u).T)\n",
    "    #return sym(nabla_grad(u))\n",
    "\n",
    "beta = 1.25\n",
    "lambda_ = beta\n",
    "mu = 1\n",
    "d = u.geometric_dimension()  # space dimension\n",
    "\n",
    "def sigma(u):\n",
    "    return lambda_*nabla_div(u)*Identity(d) + 2*mu*epsilon(u)\n",
    "\n",
    "# Define a\n",
    "a = inner(sigma(u), epsilon(v))*dx"
   ]
  },
  {
   "cell_type": "markdown",
   "metadata": {},
   "source": [
    "To define $L$, $\\boldsymbol{f}=(0, 0, \\rho*g)$ is a constant vector, instead of a scalar.\n",
    "Such a vector constant is specified as `Constant(0, 0, -rho*g)` in FEniCS."
   ]
  },
  {
   "cell_type": "code",
   "execution_count": 6,
   "metadata": {
    "collapsed": true
   },
   "outputs": [],
   "source": [
    "# Define L\n",
    "rho = 1.\n",
    "delta = width/length\n",
    "gamma = 0.4*delta**2\n",
    "g = gamma\n",
    "\n",
    "f = Constant((0, 0, -rho*g))\n",
    "L = dot(f, v)*dx"
   ]
  },
  {
   "cell_type": "markdown",
   "metadata": {},
   "source": [
    "### Solve the variational problem\n",
    "\n",
    "Finally, we can solve the problem."
   ]
  },
  {
   "cell_type": "code",
   "execution_count": 7,
   "metadata": {},
   "outputs": [],
   "source": [
    "# Compute solution\n",
    "u = Function(V)\n",
    "solve(a == L, u, bc)\n",
    "\n",
    "vtkfile = File('elasticity/solutions.pvd')\n",
    "vtkfile << u"
   ]
  },
  {
   "cell_type": "markdown",
   "metadata": {},
   "source": [
    "## Post-processing\n",
    "\n",
    "### Plot the solution"
   ]
  },
  {
   "cell_type": "markdown",
   "metadata": {},
   "source": [
    "From the displacements `u`, we can compute various stress measures. \n",
    "We will compute the von Mises stress defined as\n",
    "$$\\boldsymbol{\\sigma}_M = \\sqrt{\\frac{3}{2}\\boldsymbol{s}:\\boldsymbol{s}},$$\n",
    "where $\\boldsymbol{s}$ is the deviatoric stress tensor\n",
    "$$\\boldsymbol{s} = \\boldsymbol{\\sigma} - \\frac{1}{3}\\mathrm{tr}\\,(\\boldsymbol{\\sigma})\\,\\boldsymbol{I}.$$\n",
    "There is a one-to-one mapping between these formulas and the FEniCS code,\n",
    "where we compute the `von_Mises` variable by projecting it to the finite element space."
   ]
  },
  {
   "cell_type": "code",
   "execution_count": 8,
   "metadata": {},
   "outputs": [
    {
     "data": {
      "image/png": "[encoded data removed]",
      "text/plain": [
       "<matplotlib.figure.Figure at 0x7f9305902048>"
      ]
     },
     "metadata": {},
     "output_type": "display_data"
    }
   ],
   "source": [
    "# Plot stress\n",
    "s = sigma(u) - (1./3)*tr(sigma(u))*Identity(d)  # deviatoric stress\n",
    "von_Mises = sqrt(3./2*inner(s, s))\n",
    "V = FunctionSpace(mesh, 'P', 1)\n",
    "von_Mises = project(von_Mises, V)\n",
    "plot(von_Mises, title='Stress intensity')\n",
    "\n",
    "vtkfile = File('elasticity/stress_intensity.pvd')\n",
    "vtkfile << von_Mises"
   ]
  },
  {
   "cell_type": "markdown",
   "metadata": {},
   "source": [
    "We also evaluate the magnitude of displacements."
   ]
  },
  {
   "cell_type": "code",
   "execution_count": 9,
   "metadata": {},
   "outputs": [
    {
     "name": "stdout",
     "output_type": "stream",
     "text": [
      "min/max u: -3.87970475137e-06 0.154585383323\n"
     ]
    },
    {
     "data": {
      "image/png": "[encoded data removed]",
      "text/plain": [
       "<matplotlib.figure.Figure at 0x7f9303417828>"
      ]
     },
     "metadata": {},
     "output_type": "display_data"
    }
   ],
   "source": [
    "# Compute magnitude of displacement\n",
    "u_magnitude = sqrt(dot(u, u))\n",
    "u_magnitude = project(u_magnitude, V)\n",
    "plot(u_magnitude, 'Displacement magnitude')\n",
    "print('min/max u:',\n",
    "      u_magnitude.vector().array().min(),\n",
    "      u_magnitude.vector().array().max())\n",
    "\n",
    "vtkfile = File('elasticity/disp_mag.pvd')\n",
    "vtkfile << u_magnitude"
   ]
  },
  {
   "cell_type": "markdown",
   "metadata": {},
   "source": [
    "## Note on `grad(u)` vs. `nabla_grad(u)`\n",
    "\n",
    "For scalar functions, $\\boldsymbol{\\nabla} u$ has a clear meaning as the vector\n",
    "$$\\boldsymbol{\\nabla} u =\\left(\\frac{\\partial u}{\\partial x}, \\frac{\\partial u}{\\partial y},\n",
    "\\frac{\\partial u}{\\partial z}\\right).$$\n",
    "\n",
    "However, for a vector-valued function $\\boldsymbol{u}$, the meaning is less clear.\n",
    "Some sources define $\\boldsymbol{\\nabla}\\boldsymbol{u}$ as the matrix with elements\n",
    "$\\partial u_j / \\partial x_i$, especially in continuum mechanics.\n",
    "Some other sources prefer $\\partial u_i / \\partial x_j$, such as in the \n",
    "*Jacobian matrix*.\n",
    "\n",
    "In our notes, $\\boldsymbol{\\nabla}$ always denotes the matrix \n",
    "with elements $\\partial u_j / \\partial x_i$, to be consistent with most PDEs.\n",
    "The corresponding operator in FEniCS is `nabla_grad(u)`.\n",
    "For the Jacobian matrix, its corresponding operator in FEniCS is `grad(u)`."
   ]
  },
  {
   "cell_type": "markdown",
   "metadata": {},
   "source": [
    "## Additional notes on linear elasticity\n",
    "\n",
    "### Scaling\n",
    "\n",
    "It is often advantageous to scale a problem as it reduces the need for setting\n",
    "physical parameters, and one obtains dimensionsless numbers that\n",
    "reflect the competition of parameters and physical effects. We develop\n",
    "the code for the original model with dimensions, and run the scaled\n",
    "problem by tweaking parameters appropriately. Scaling reduces the\n",
    "number of active parameters from 6 to 2 for the present application.\n",
    "\n",
    "In Navier's equation for $\\boldsymbol{u}$, arising from inserting\n",
    "(\\ref{ftut-elast-varform-stresstrain}) and\n",
    "(\\ref{ftut-elast-varform-strainu}) into\n",
    "(\\ref{ftut-elast-varform-equilibrium}),\n",
    "\n",
    "$$ -(\\lambda + \\mu)\\boldsymbol{\\nabla}(\\boldsymbol{\\nabla}\\cdot \\boldsymbol{u}) - \\mu\\boldsymbol{\\nabla}^2 \\boldsymbol{u} = \\boldsymbol{f},$$\n",
    "\n",
    "we insert coordinates made dimensionless by $L$, and $\\bar{\\boldsymbol{u}}=\\boldsymbol{u}/U$,\n",
    "which results in the dimensionless governing equation\n",
    "\n",
    "$$\n",
    "-\\beta\\bar{\\boldsymbol{\\nabla}}(\\bar{\\boldsymbol{\\nabla}}\\cdot\\bar{\\boldsymbol{u}})-\\bar{\\boldsymbol{\\nabla}}^{2}\\bar{\\boldsymbol{u}}=\\bar{\\boldsymbol{f}},\\quad\\bar{\\boldsymbol{f}}=(0,0,\\gamma)\n",
    ",$$\n",
    "where $\\beta = 1 + \\lambda/\\mu$ is a dimensionless elasticity parameter and\n",
    "\n",
    "$$ \\gamma = \\frac{\\rho gL^2}{\\mu U}$$\n",
    "is a dimensionless variable reflecting the ratio of the load\n",
    "$\\rho g$ and the shear stress\n",
    "term $\\mu\\boldsymbol{\\nabla}^2 \\boldsymbol{u}\\sim \\mu U/L^2$ in the PDE.\n",
    "\n",
    "One option for the scaling is to choose $U$ such that $\\gamma$ is of\n",
    "unit size ($U = \\rho gL^2/\\mu$). However, in elasticity, this leads\n",
    "to displacements of the size of the geometry, which makes plots\n",
    "look very strange. Therefore, we want the characteristic displacement\n",
    "to be a small fraction of the characteristic length of the geometry.\n",
    "This can be achieved by choosing $U$ equal to the maximum deflection\n",
    "of a clamped beam, for which there actually exists a formula: $U =\n",
    "\\frac{3}{2}\\rho gL^2\\delta^2/E$, where $\\delta = L/W$ is a\n",
    "parameter reflecting how slender the beam is, and $E$ is the modulus\n",
    "of elasticity. Thus, the dimensionless parameter $\\delta$ is very\n",
    "important in the problem (as expected, since $\\delta\\gg 1$ is what\n",
    "gives beam theory!). Taking $E$ to be of the same order as $\\mu$,\n",
    "which is the case for many materials, we realize that $\\gamma \\sim\n",
    "\\delta^{-2}$ is an appropriate choice.  Experimenting with the code to\n",
    "find a displacement that ``looks right'' in plots of the deformed\n",
    "geometry, points to $\\gamma = 0.4\\delta^{-2}$ as our final choice of\n",
    "$\\gamma$.\n",
    "\n",
    "The simulation code implements the problem with dimensions and\n",
    "physical parameters $\\lambda$, $\\mu$, $\\rho$, $g$, $L$, and $W$.\n",
    "However, we can easily reuse this code for a scaled problem: just set\n",
    "$\\mu = \\rho = L = 1$, $W$ as $W/L$ ($\\delta^{-1}$), $g=\\gamma$, and\n",
    "$\\lambda=\\beta$."
   ]
  },
  {
   "cell_type": "markdown",
   "metadata": {},
   "source": [
    "### Sliding and frictions boundary conditions\n",
    "For sliding boundary conditions, should we enforce them strongly (i.e., node-wise,\n",
    "similar to Dirichlet boundary conditions) or weakly (i.e., in the variational form\n",
    "similar to traction boundary conditions)?\n",
    "\n",
    "A proper mathematical formulation is to decompose the variational form \n",
    "(\\ref{ftut-elast-varform-sigma_inner_gradv}) into tangential and normal \n",
    "directions for boundary nodes. Along the normal direction, we enforce\n",
    "the BC strongly. \n",
    "\n",
    "For simplicity, let us assume the surface is flat. Let $\\Gamma_S$ denote the \n",
    "part of $\\partial\\Omega$ where sliding boundary conditions are imposed. \n",
    "We then have\n",
    "\\begin{equation}\n",
    "\\int_{\\Gamma_{S}}\\boldsymbol{\\sigma}_{S}:\\boldsymbol{\\nabla}_{S}\\boldsymbol{v}\\ \\mathrm{d}\\boldsymbol{s}=\\int_{\\Gamma_{S}}\\tilde{\\boldsymbol{f}}_{S}\\cdot\\boldsymbol{v}\\ \\mathrm{d}\\boldsymbol{s}+\\int_{\\partial\\Gamma_{S}}\\boldsymbol{T}_{l}\\cdot\\boldsymbol{v}\\ \\mathrm{d}s,\n",
    "\\end{equation}\n",
    "where $\\boldsymbol{\\nabla}_S$ denotes the surface gradient operator within $\\Gamma_S$, $\\boldsymbol{\\sigma}_S$ denotes the \n",
    "traction within $\\Gamma_S$, $\\partial\\Gamma_S$ denotes the boundary of $\\partial\\Gamma_S$, \n",
    "$\\tilde{\\boldsymbol{f}}$ denotes the body force modified by frictions, and\n",
    "$\\boldsymbol{T}_{l}=\\boldsymbol{T}\\cdot\\boldsymbol{n}_l$, denotes the stress tensor\n",
    "dotted with the ourward normal of $\\partial\\Gamma_{S}$, and $\\mathrm{d}s$ denotes\n",
    "a line integral along $\\partial\\Gamma_S$. This allows a more unified treatment \n",
    "of sliding and frictions boundary conditions.\n",
    "\n",
    "For curved surfaces, the equations will be more complicated and will involve \n",
    "surface differential operators."
   ]
  },
  {
   "cell_type": "markdown",
   "metadata": {},
   "source": [
    "### Anisotropic elasticity\n",
    "We can easily allow for anisotropic materials since\n",
    "(\\ref{ftut-elast-varform-sigma_inner_eps}) is just the inner product of\n",
    "the stress tensor and the strain tensor. Anisotropic elasticity is\n",
    "easiest to deal with by having a 6-vector with the unique components of\n",
    "stress and strain and relate the 6-vectors through a $6\\times 6$\n",
    "elasticity matrix $\\boldsymbol{D}$: $\\boldsymbol{\\sigma} = \\boldsymbol{D}\\boldsymbol{\\varepsilon}$. We then form the\n",
    "inner product of $\\boldsymbol{\\sigma}$ and $\\boldsymbol{\\varepsilon}$ to be $\\boldsymbol{\\varepsilon}^T \\boldsymbol{D}\\boldsymbol{\\varepsilon}$."
   ]
  },
  {
   "cell_type": "markdown",
   "metadata": {},
   "source": [
    "**Acknowledgment**: This notebook was adapted from [The FEniCS Tutorial Volume I](https://fenicsproject.org/pub/tutorial/sphinx1/) by Hans Petter Langtangen and Anders Logg, released under CC Attribution 4.0 license. The part on sliding and frictions boundary conditions is by the author."
   ]
  }
 ],
 "metadata": {
  "kernelspec": {
   "display_name": "Python 3",
   "language": "python",
   "name": "python3"
  },
  "language_info": {
   "codemirror_mode": {
    "name": "ipython",
    "version": 3
   },
   "file_extension": ".py",
   "mimetype": "text/x-python",
   "name": "python",
   "nbconvert_exporter": "python",
   "pygments_lexer": "ipython3",
   "version": "3.5.2"
  },
  "latex_envs": {
   "LaTeX_envs_menu_present": true,
   "autocomplete": true,
   "bibliofile": "",
   "cite_by": "apalike",
   "current_citInitial": 1,
   "eqLabelWithNumbers": true,
   "eqNumInitial": 1,
   "hotkeys": {
    "equation": "Ctrl-E",
    "itemize": "Ctrl-I"
   },
   "labels_anchors": false,
   "latex_user_defs": false,
   "report_style_numbering": false,
   "user_envs_cfg": true
  }
 },
 "nbformat": 4,
 "nbformat_minor": 2
}
